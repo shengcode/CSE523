{
 "cells": [
  {
   "cell_type": "code",
   "execution_count": 1,
   "metadata": {
    "collapsed": true
   },
   "outputs": [],
   "source": [
    "import pandas as pd\n",
    "import numpy as np\n",
    "#import geopandas as gpd\n",
    "import matplotlib.pyplot as plt\n",
    "from sklearn.neighbors import DistanceMetric, KDTree, BallTree\n",
    "import pdb"
   ]
  },
  {
   "cell_type": "code",
   "execution_count": 2,
   "metadata": {
    "collapsed": false
   },
   "outputs": [
    {
     "data": {
      "text/plain": [
       "{'divide': 'warn', 'invalid': 'warn', 'over': 'warn', 'under': 'ignore'}"
      ]
     },
     "execution_count": 2,
     "metadata": {},
     "output_type": "execute_result"
    }
   ],
   "source": [
    "%matplotlib inline\n",
    "np.seterr(divide='raise',invalid='raise')"
   ]
  },
  {
   "cell_type": "code",
   "execution_count": 3,
   "metadata": {
    "collapsed": false
   },
   "outputs": [
    {
     "name": "stdout",
     "output_type": "stream",
     "text": [
      "/home/me/Documents/cse523/Geolife Trajectories 1.3\n"
     ]
    }
   ],
   "source": [
    "cd Geolife\\ Trajectories\\ 1.3"
   ]
  },
  {
   "cell_type": "code",
   "execution_count": 4,
   "metadata": {
    "collapsed": true
   },
   "outputs": [],
   "source": [
    "track = pd.read_csv('Data/000/Trajectory/20081103232153.plt', skiprows=6, header=None)"
   ]
  },
  {
   "cell_type": "code",
   "execution_count": 5,
   "metadata": {
    "collapsed": false
   },
   "outputs": [
    {
     "data": {
      "text/html": [
       "<div>\n",
       "<table border=\"1\" class=\"dataframe\">\n",
       "  <thead>\n",
       "    <tr style=\"text-align: right;\">\n",
       "      <th></th>\n",
       "      <th>0</th>\n",
       "      <th>1</th>\n",
       "      <th>2</th>\n",
       "      <th>3</th>\n",
       "      <th>4</th>\n",
       "      <th>5</th>\n",
       "      <th>6</th>\n",
       "    </tr>\n",
       "  </thead>\n",
       "  <tbody>\n",
       "    <tr>\n",
       "      <th>0</th>\n",
       "      <td>39.996948</td>\n",
       "      <td>116.325747</td>\n",
       "      <td>0</td>\n",
       "      <td>492</td>\n",
       "      <td>39755.973530</td>\n",
       "      <td>2008-11-03</td>\n",
       "      <td>23:21:53</td>\n",
       "    </tr>\n",
       "    <tr>\n",
       "      <th>1</th>\n",
       "      <td>39.996849</td>\n",
       "      <td>116.325763</td>\n",
       "      <td>0</td>\n",
       "      <td>491</td>\n",
       "      <td>39755.973588</td>\n",
       "      <td>2008-11-03</td>\n",
       "      <td>23:21:58</td>\n",
       "    </tr>\n",
       "    <tr>\n",
       "      <th>2</th>\n",
       "      <td>39.994409</td>\n",
       "      <td>116.326968</td>\n",
       "      <td>0</td>\n",
       "      <td>23</td>\n",
       "      <td>39755.973646</td>\n",
       "      <td>2008-11-03</td>\n",
       "      <td>23:22:03</td>\n",
       "    </tr>\n",
       "    <tr>\n",
       "      <th>3</th>\n",
       "      <td>39.995076</td>\n",
       "      <td>116.326629</td>\n",
       "      <td>0</td>\n",
       "      <td>70</td>\n",
       "      <td>39755.973704</td>\n",
       "      <td>2008-11-03</td>\n",
       "      <td>23:22:08</td>\n",
       "    </tr>\n",
       "    <tr>\n",
       "      <th>4</th>\n",
       "      <td>39.995193</td>\n",
       "      <td>116.326572</td>\n",
       "      <td>0</td>\n",
       "      <td>75</td>\n",
       "      <td>39755.973762</td>\n",
       "      <td>2008-11-03</td>\n",
       "      <td>23:22:13</td>\n",
       "    </tr>\n",
       "  </tbody>\n",
       "</table>\n",
       "</div>"
      ],
      "text/plain": [
       "           0           1  2    3             4           5         6\n",
       "0  39.996948  116.325747  0  492  39755.973530  2008-11-03  23:21:53\n",
       "1  39.996849  116.325763  0  491  39755.973588  2008-11-03  23:21:58\n",
       "2  39.994409  116.326968  0   23  39755.973646  2008-11-03  23:22:03\n",
       "3  39.995076  116.326629  0   70  39755.973704  2008-11-03  23:22:08\n",
       "4  39.995193  116.326572  0   75  39755.973762  2008-11-03  23:22:13"
      ]
     },
     "execution_count": 5,
     "metadata": {},
     "output_type": "execute_result"
    }
   ],
   "source": [
    "track.head()"
   ]
  },
  {
   "cell_type": "code",
   "execution_count": 6,
   "metadata": {
    "collapsed": false
   },
   "outputs": [
    {
     "data": {
      "text/plain": [
       "(2231, 7)"
      ]
     },
     "execution_count": 6,
     "metadata": {},
     "output_type": "execute_result"
    }
   ],
   "source": [
    "track.shape"
   ]
  },
  {
   "cell_type": "code",
   "execution_count": 7,
   "metadata": {
    "collapsed": true
   },
   "outputs": [],
   "source": [
    "## distance functions\n",
    "def point2dist(point, line):\n",
    "    linelen = np.linalg.norm(line[1]-line[0])\n",
    "    if linelen==0:\n",
    "        return 0\n",
    "    else:\n",
    "        return np.linalg.norm(np.cross(point-line[0], line[1]-line[0]))/linelen\n",
    "\n",
    "def vertical_distance(x, y):\n",
    "    if np.linalg.norm(x[1]-x[0]) < np.linalg.norm(y[1]-y[0]):\n",
    "        dist_end1 = point2dist(x[0], y)\n",
    "        dist_end2 = point2dist(x[1], y)\n",
    "    else:\n",
    "        dist_end1 = point2dist(y[0], x)\n",
    "        dist_end2 = point2dist(y[1], x)\n",
    "    dist = dist_end1+dist_end2\n",
    "    if dist == 0:\n",
    "        return 0\n",
    "    else:\n",
    "        return (dist_end1**2 + dist_end2**2)/dist\n",
    "\n",
    "def parallel_distance(x, y):\n",
    "    l2square = np.dot(y[1]-y[0], y[1]-y[0])\n",
    "    if l2square != 0:\n",
    "        l1 = np.linalg.norm(np.dot(x[0]-y[0], y[1]-y[0])/l2square*(y[1]-y[0]))\n",
    "        l2 = np.linalg.norm(y[1] - y[0] - np.dot(x[1]-y[0], y[1]-y[0])/l2square*(y[1]-y[0]))\n",
    "        return min(l1, l2)\n",
    "    else:\n",
    "        return 0\n",
    "\n",
    "def angular_distance(x, y):\n",
    "    ylen = np.linalg.norm(y[1]-y[0])\n",
    "    xlen = np.linalg.norm(x[1]-x[0])\n",
    "    shorter_len = min(xlen, ylen)\n",
    "    longer_len = max(xlen, ylen)\n",
    "    dist = np.dot(x[1]-x[0], y[1]-y[0])\n",
    "    if dist < 0:\n",
    "        return shorter_len\n",
    "    else:\n",
    "        return 0 if longer_len==0 else np.abs(np.cross(x[1]-x[0], y[1]-y[0]))/longer_len\n",
    "    \n",
    "def line_distance(x, y):\n",
    "    return vertical_distance(x, y)+parallel_distance(x, y)+angular_distance(x, y)\n"
   ]
  },
  {
   "cell_type": "code",
   "execution_count": 8,
   "metadata": {
    "collapsed": false
   },
   "outputs": [],
   "source": [
    "# MDL cost\n",
    "def mdl(data, model_indexes):\n",
    "    \"\"\"\n",
    "    calculate mdl cost\n",
    "    data the raw data\n",
    "    model_indexes indexes into the raw data, data points choose by indexes are used to represent the raw data\n",
    "    \"\"\"\n",
    "    # L(H) model cost could have multiple segments\n",
    "    lh = 0\n",
    "    for i in range(len(model_indexes)-1):\n",
    "        dist = np.linalg.norm(data[model_indexes[i]]-data[model_indexes[i+1]])\n",
    "        lh = lh + np.log2(dist) if dist!=0 else 0\n",
    "    # L(D|H)\n",
    "    ldh = 0\n",
    "    # the index into the model_indexes, NOT into raw data\n",
    "    model_index = 0\n",
    "    for i in range(len(data)-1):\n",
    "        if i > model_indexes[model_index+1]:\n",
    "            model_index = model_index + 1\n",
    "\n",
    "        model_i_start = model_indexes[model_index]\n",
    "        model_i_end = model_indexes[model_index+1]\n",
    "        \n",
    "        if i!=model_i_start or i+1!=model_i_end:\n",
    "            dist = vertical_distance((data[model_i_start], data[model_i_end]),(data[i], data[i+1]))* \\\n",
    "                angular_distance((data[model_i_start], data[model_i_end]), (data[i], data[i+1]))\n",
    "            ldh = ldh + np.log2(dist) if dist!=0 else 0\n",
    "    return lh + ldh"
   ]
  },
  {
   "cell_type": "code",
   "execution_count": 9,
   "metadata": {
    "collapsed": true
   },
   "outputs": [],
   "source": [
    "## MDL partition algorithm\n",
    "def mdl_partition(path):\n",
    "    partition_set = [path[0]]\n",
    "    start_index = 0\n",
    "    length = 1\n",
    "    while start_index + length < len(path):\n",
    "        curr_index = start_index + length\n",
    "        # MDL cost if curr_index is included as a characteristic point\n",
    "        mdlparcost=mdl(path[start_index:curr_index+1], (0, curr_index-start_index))\n",
    "        # no partition, segmented line\n",
    "        mdlnoparcost=mdl(path[start_index:curr_index+1], np.arange(curr_index-start_index+1))\n",
    "        if mdlparcost > mdlnoparcost:\n",
    "            partition_set = partition_set + [path[curr_index-1]]\n",
    "            start_index = curr_index-1\n",
    "            length = 1\n",
    "        else:\n",
    "            length = length + 1\n",
    "    partition_set = partition_set + [path[len(path)-1]]\n",
    "    return partition_set"
   ]
  },
  {
   "cell_type": "code",
   "execution_count": 10,
   "metadata": {
    "collapsed": false
   },
   "outputs": [],
   "source": [
    "partitions=(np.array(mdl_partition(track[[0,1]].values)))"
   ]
  },
  {
   "cell_type": "code",
   "execution_count": 11,
   "metadata": {
    "collapsed": false
   },
   "outputs": [
    {
     "data": {
      "text/plain": [
       "[<matplotlib.lines.Line2D at 0x7f7e20d06a10>]"
      ]
     },
     "execution_count": 11,
     "metadata": {},
     "output_type": "execute_result"
    },
    {
     "data": {
      "image/png": "[encoded data removed]",
      "text/plain": [
       "<matplotlib.figure.Figure at 0x7f7e20d06e10>"
      ]
     },
     "metadata": {},
     "output_type": "display_data"
    }
   ],
   "source": [
    "plt.plot(track[0], track[1])\n",
    "\n",
    "plt.plot(partitions[:, 0], partitions[:, 1])"
   ]
  },
  {
   "cell_type": "code",
   "execution_count": 12,
   "metadata": {
    "collapsed": false
   },
   "outputs": [
    {
     "data": {
      "text/plain": [
       "[<matplotlib.lines.Line2D at 0x7f7e20903c90>]"
      ]
     },
     "execution_count": 12,
     "metadata": {},
     "output_type": "execute_result"
    },
    {
     "data": {
      "image/png": "[encoded data removed]",
      "text/plain": [
       "<matplotlib.figure.Figure at 0x7f7e20d06990>"
      ]
     },
     "metadata": {},
     "output_type": "display_data"
    }
   ],
   "source": [
    "plt.plot(partitions[:, 0], partitions[:, 1])"
   ]
  },
  {
   "cell_type": "code",
   "execution_count": 13,
   "metadata": {
    "collapsed": false
   },
   "outputs": [
    {
     "data": {
      "text/plain": [
       "[<matplotlib.lines.Line2D at 0x7f7e207d91d0>]"
      ]
     },
     "execution_count": 13,
     "metadata": {},
     "output_type": "execute_result"
    },
    {
     "data": {
      "image/png": "[encoded data removed]",
      "text/plain": [
       "<matplotlib.figure.Figure at 0x7f7e2089c190>"
      ]
     },
     "metadata": {},
     "output_type": "display_data"
    }
   ],
   "source": [
    "plt.plot(track[0], track[1])"
   ]
  },
  {
   "cell_type": "code",
   "execution_count": 14,
   "metadata": {
    "collapsed": false
   },
   "outputs": [
    {
     "data": {
      "text/plain": [
       "(713, 2)"
      ]
     },
     "execution_count": 14,
     "metadata": {},
     "output_type": "execute_result"
    }
   ],
   "source": [
    "partitions.shape"
   ]
  },
  {
   "cell_type": "code",
   "execution_count": 15,
   "metadata": {
    "collapsed": false
   },
   "outputs": [],
   "source": [
    "segment_dist=np.zeros(len(partitions)-1)\n",
    "for i in np.arange(len(partitions)-1):\n",
    "    segment_dist[i] = np.linalg.norm(partitions[i] - partitions[i+1])"
   ]
  },
  {
   "cell_type": "code",
   "execution_count": 16,
   "metadata": {
    "collapsed": false
   },
   "outputs": [
    {
     "data": {
      "text/plain": [
       "(array([463, 182,  37,  20,   9,   0,   0,   0,   0,   1]),\n",
       " array([  1.41421356e-06,   2.08210174e-04,   4.15006135e-04,\n",
       "          6.21802095e-04,   8.28598055e-04,   1.03539402e-03,\n",
       "          1.24218998e-03,   1.44898594e-03,   1.65578190e-03,\n",
       "          1.86257786e-03,   2.06937382e-03]))"
      ]
     },
     "execution_count": 16,
     "metadata": {},
     "output_type": "execute_result"
    }
   ],
   "source": [
    "np.histogram(segment_dist)"
   ]
  },
  {
   "cell_type": "code",
   "execution_count": 17,
   "metadata": {
    "collapsed": false,
    "scrolled": true
   },
   "outputs": [
    {
     "data": {
      "text/plain": [
       "(array([  74.,  121.,   92.,   82.,   94.,   70.,   60.,   27.,   17.,\n",
       "           8.,   11.,    7.,    6.,    7.,    6.,    4.,    8.,    3.,\n",
       "           0.,    5.,    3.,    2.,    2.,    2.,    0.,    0.,    0.,\n",
       "           0.,    0.,    0.,    0.,    0.,    0.,    0.,    0.,    0.,\n",
       "           0.,    0.,    0.,    0.,    0.,    0.,    0.,    0.,    0.,\n",
       "           0.,    0.,    0.,    0.,    1.]),\n",
       " array([  1.41421356e-06,   4.27734057e-05,   8.41325977e-05,\n",
       "          1.25491790e-04,   1.66850982e-04,   2.08210174e-04,\n",
       "          2.49569366e-04,   2.90928558e-04,   3.32287750e-04,\n",
       "          3.73646942e-04,   4.15006135e-04,   4.56365327e-04,\n",
       "          4.97724519e-04,   5.39083711e-04,   5.80442903e-04,\n",
       "          6.21802095e-04,   6.63161287e-04,   7.04520479e-04,\n",
       "          7.45879671e-04,   7.87238863e-04,   8.28598055e-04,\n",
       "          8.69957248e-04,   9.11316440e-04,   9.52675632e-04,\n",
       "          9.94034824e-04,   1.03539402e-03,   1.07675321e-03,\n",
       "          1.11811240e-03,   1.15947159e-03,   1.20083078e-03,\n",
       "          1.24218998e-03,   1.28354917e-03,   1.32490836e-03,\n",
       "          1.36626755e-03,   1.40762674e-03,   1.44898594e-03,\n",
       "          1.49034513e-03,   1.53170432e-03,   1.57306351e-03,\n",
       "          1.61442271e-03,   1.65578190e-03,   1.69714109e-03,\n",
       "          1.73850028e-03,   1.77985947e-03,   1.82121867e-03,\n",
       "          1.86257786e-03,   1.90393705e-03,   1.94529624e-03,\n",
       "          1.98665543e-03,   2.02801463e-03,   2.06937382e-03]),\n",
       " <a list of 50 Patch objects>)"
      ]
     },
     "execution_count": 17,
     "metadata": {},
     "output_type": "execute_result"
    },
    {
     "data": {
      "image/png": "[encoded data removed]",
      "text/plain": [
       "<matplotlib.figure.Figure at 0x7f7e207e7750>"
      ]
     },
     "metadata": {},
     "output_type": "display_data"
    }
   ],
   "source": [
    "plt.hist(segment_dist, bins=50)"
   ]
  },
  {
   "cell_type": "code",
   "execution_count": 18,
   "metadata": {
    "collapsed": true
   },
   "outputs": [],
   "source": [
    "def segment_clustering(segments, eps, minlines):\n",
    "    \"\"\"\n",
    "    cluster line segment\n",
    "    segments: line segments to be clustered\n",
    "    eps: eps-neighbour\n",
    "    minlines: threshold, mimimum number of lines\n",
    "    \"\"\""
   ]
  },
  {
   "cell_type": "raw",
   "metadata": {
    "collapsed": false
   },
   "source": [
    "# The segment datatype, for interfacing KDTree.  pathid is the path id this segment belongs to and clusterid\n",
    "segment_type=np.dtype([('x1','f8'),('y1','f8'),('x2','f8'),('y2','f8'),('pathid','i4'),('clusterid','i4')])\n",
    "\n",
    "def path2segment(path):\n",
    "    \"\"\"\n",
    "    convert path to segment_type\n",
    "    \"\"\"\n",
    "    segments = np.zeros(len(path)-1, dtype=segment_type)\n",
    "    # set the pathid and clusterid to invalid id to represent not clustered\n",
    "    segments['pathid']=-1\n",
    "    segments['clusterid']=-1\n",
    "    for i in np.arange(len(path)-1):\n",
    "        segments[i]['x1'] = path[i][0]\n",
    "        segments[i]['y1'] = path[i][1]\n",
    "        segments[i]['x2'] = path[i+1][0]\n",
    "        segments[i]['y2'] = path[i+1][1]\n",
    "    return segments\n",
    "    \n",
    "def segment_line_dist(x, y):\n",
    "    \"\"\"custom distance function to be used by KDTree\"\"\"\n",
    "    return line_distance((np.array([x['x1'],x['y1']]), np.array([x['x2'],x['y2']])),\n",
    "                         (np.array([y['x1'],y['y1']]), np.array([y['x2'],y['y2']])))"
   ]
  },
  {
   "cell_type": "code",
   "execution_count": 19,
   "metadata": {
    "collapsed": false
   },
   "outputs": [],
   "source": [
    "NUM_INDEX = 2\n",
    "indexed_segment = np.hstack((partitions[:-1], partitions[1:], -np.ones((len(partitions)-1, NUM_INDEX))))"
   ]
  },
  {
   "cell_type": "code",
   "execution_count": 20,
   "metadata": {
    "collapsed": false
   },
   "outputs": [],
   "source": [
    "def segment_line_dist(xl, yl):\n",
    "    #pdb.set_trace()\n",
    "    xl = xl[:-NUM_INDEX]\n",
    "    yl = yl[:-NUM_INDEX]\n",
    "    dimension = len(xl)/2\n",
    "    return line_distance((xl[:dimension], xl[dimension:]), (yl[:dimension], yl[dimension:]))"
   ]
  },
  {
   "cell_type": "code",
   "execution_count": 21,
   "metadata": {
    "collapsed": false
   },
   "outputs": [
    {
     "data": {
      "text/plain": [
       "(0.00089589218101863001, 0.00089547277311731162)"
      ]
     },
     "execution_count": 21,
     "metadata": {},
     "output_type": "execute_result"
    }
   ],
   "source": [
    "segment_line_dist(indexed_segment[0],indexed_segment[1]), segment_line_dist(indexed_segment[1],indexed_segment[0])"
   ]
  },
  {
   "cell_type": "code",
   "execution_count": 22,
   "metadata": {
    "collapsed": false
   },
   "outputs": [
    {
     "data": {
      "text/plain": [
       "array([[  39.996948,  116.325747,   39.995076,  116.326629,   -1.      ,\n",
       "          -1.      ],\n",
       "       [  39.995076,  116.326629,   39.995464,  116.326425,   -1.      ,\n",
       "          -1.      ],\n",
       "       [  39.995464,  116.326425,   39.996123,  116.326359,   -1.      ,\n",
       "          -1.      ],\n",
       "       [  39.996123,  116.326359,   39.996692,  116.326337,   -1.      ,\n",
       "          -1.      ],\n",
       "       [  39.996692,  116.326337,   39.997222,  116.326237,   -1.      ,\n",
       "          -1.      ],\n",
       "       [  39.997222,  116.326237,   39.997912,  116.326315,   -1.      ,\n",
       "          -1.      ],\n",
       "       [  39.997912,  116.326315,   39.99831 ,  116.326313,   -1.      ,\n",
       "          -1.      ],\n",
       "       [  39.99831 ,  116.326313,   39.998733,  116.326314,   -1.      ,\n",
       "          -1.      ],\n",
       "       [  39.998733,  116.326314,   39.999521,  116.326333,   -1.      ,\n",
       "          -1.      ],\n",
       "       [  39.999521,  116.326333,   39.999646,  116.326202,   -1.      ,\n",
       "          -1.      ]])"
      ]
     },
     "execution_count": 22,
     "metadata": {},
     "output_type": "execute_result"
    }
   ],
   "source": [
    "indexed_segment[:10]"
   ]
  },
  {
   "cell_type": "code",
   "execution_count": 65,
   "metadata": {
    "collapsed": false
   },
   "outputs": [
    {
     "ename": "ValueError",
     "evalue": "incompatible dimensions for cross product\n(dimension must be 2 or 3)",
     "output_type": "error",
     "traceback": [
      "\u001b[0;31m\u001b[0m",
      "\u001b[0;31mValueError\u001b[0mTraceback (most recent call last)",
      "\u001b[0;32m<ipython-input-65-a82af4a2be68>\u001b[0m in \u001b[0;36m<module>\u001b[0;34m()\u001b[0m\n\u001b[0;32m----> 1\u001b[0;31m \u001b[0mtree\u001b[0m \u001b[0;34m=\u001b[0m \u001b[0mBallTree\u001b[0m\u001b[0;34m(\u001b[0m\u001b[0mindexed_segment\u001b[0m\u001b[0;34m,\u001b[0m\u001b[0mleaf_size\u001b[0m\u001b[0;34m=\u001b[0m\u001b[0;36m10\u001b[0m\u001b[0;34m,\u001b[0m  \u001b[0mmetric\u001b[0m\u001b[0;34m=\u001b[0m\u001b[0msegment_line_dist\u001b[0m\u001b[0;34m)\u001b[0m\u001b[0;34m\u001b[0m\u001b[0m\n\u001b[0m",
      "\u001b[0;32msklearn/neighbors/binary_tree.pxi\u001b[0m in \u001b[0;36msklearn.neighbors.ball_tree.BinaryTree.__init__ (sklearn/neighbors/ball_tree.c:9205)\u001b[0;34m()\u001b[0m\n",
      "\u001b[0;32msklearn/neighbors/dist_metrics.pyx\u001b[0m in \u001b[0;36msklearn.neighbors.dist_metrics.DistanceMetric.get_metric (sklearn/neighbors/dist_metrics.c:4450)\u001b[0;34m()\u001b[0m\n",
      "\u001b[0;32msklearn/neighbors/dist_metrics.pyx\u001b[0m in \u001b[0;36msklearn.neighbors.dist_metrics.PyFuncDistance.__init__ (sklearn/neighbors/dist_metrics.c:11290)\u001b[0;34m()\u001b[0m\n",
      "\u001b[0;32m<ipython-input-64-8a8d67d19c4d>\u001b[0m in \u001b[0;36msegment_line_dist\u001b[0;34m(xl, yl)\u001b[0m\n\u001b[1;32m      4\u001b[0m     \u001b[0myl\u001b[0m \u001b[0;34m=\u001b[0m \u001b[0myl\u001b[0m\u001b[0;34m[\u001b[0m\u001b[0;34m:\u001b[0m\u001b[0;34m-\u001b[0m\u001b[0mNUM_INDEX\u001b[0m\u001b[0;34m]\u001b[0m\u001b[0;34m\u001b[0m\u001b[0m\n\u001b[1;32m      5\u001b[0m     \u001b[0mdimension\u001b[0m \u001b[0;34m=\u001b[0m \u001b[0mlen\u001b[0m\u001b[0;34m(\u001b[0m\u001b[0mxl\u001b[0m\u001b[0;34m)\u001b[0m\u001b[0;34m/\u001b[0m\u001b[0;36m2\u001b[0m\u001b[0;34m\u001b[0m\u001b[0m\n\u001b[0;32m----> 6\u001b[0;31m     \u001b[0;32mreturn\u001b[0m \u001b[0mline_distance\u001b[0m\u001b[0;34m(\u001b[0m\u001b[0;34m(\u001b[0m\u001b[0mxl\u001b[0m\u001b[0;34m[\u001b[0m\u001b[0;34m:\u001b[0m\u001b[0mdimension\u001b[0m\u001b[0;34m]\u001b[0m\u001b[0;34m,\u001b[0m \u001b[0mxl\u001b[0m\u001b[0;34m[\u001b[0m\u001b[0mdimension\u001b[0m\u001b[0;34m:\u001b[0m\u001b[0;34m]\u001b[0m\u001b[0;34m)\u001b[0m\u001b[0;34m,\u001b[0m \u001b[0;34m(\u001b[0m\u001b[0myl\u001b[0m\u001b[0;34m[\u001b[0m\u001b[0;34m:\u001b[0m\u001b[0mdimension\u001b[0m\u001b[0;34m]\u001b[0m\u001b[0;34m,\u001b[0m \u001b[0myl\u001b[0m\u001b[0;34m[\u001b[0m\u001b[0mdimension\u001b[0m\u001b[0;34m:\u001b[0m\u001b[0;34m]\u001b[0m\u001b[0;34m)\u001b[0m\u001b[0;34m)\u001b[0m\u001b[0;34m\u001b[0m\u001b[0m\n\u001b[0m",
      "\u001b[0;32m<ipython-input-48-b52d50629380>\u001b[0m in \u001b[0;36mline_distance\u001b[0;34m(x, y)\u001b[0m\n\u001b[1;32m     41\u001b[0m \u001b[0;34m\u001b[0m\u001b[0m\n\u001b[1;32m     42\u001b[0m \u001b[0;32mdef\u001b[0m \u001b[0mline_distance\u001b[0m\u001b[0;34m(\u001b[0m\u001b[0mx\u001b[0m\u001b[0;34m,\u001b[0m \u001b[0my\u001b[0m\u001b[0;34m)\u001b[0m\u001b[0;34m:\u001b[0m\u001b[0;34m\u001b[0m\u001b[0m\n\u001b[0;32m---> 43\u001b[0;31m     \u001b[0;32mreturn\u001b[0m \u001b[0mvertical_distance\u001b[0m\u001b[0;34m(\u001b[0m\u001b[0mx\u001b[0m\u001b[0;34m,\u001b[0m \u001b[0my\u001b[0m\u001b[0;34m)\u001b[0m\u001b[0;34m+\u001b[0m\u001b[0mparallel_distance\u001b[0m\u001b[0;34m(\u001b[0m\u001b[0mx\u001b[0m\u001b[0;34m,\u001b[0m \u001b[0my\u001b[0m\u001b[0;34m)\u001b[0m\u001b[0;34m+\u001b[0m\u001b[0mangular_distance\u001b[0m\u001b[0;34m(\u001b[0m\u001b[0mx\u001b[0m\u001b[0;34m,\u001b[0m \u001b[0my\u001b[0m\u001b[0;34m)\u001b[0m\u001b[0;34m\u001b[0m\u001b[0m\n\u001b[0m",
      "\u001b[0;32m<ipython-input-48-b52d50629380>\u001b[0m in \u001b[0;36mvertical_distance\u001b[0;34m(x, y)\u001b[0m\n\u001b[1;32m     12\u001b[0m         \u001b[0mdist_end2\u001b[0m \u001b[0;34m=\u001b[0m \u001b[0mpoint2dist\u001b[0m\u001b[0;34m(\u001b[0m\u001b[0mx\u001b[0m\u001b[0;34m[\u001b[0m\u001b[0;36m1\u001b[0m\u001b[0;34m]\u001b[0m\u001b[0;34m,\u001b[0m \u001b[0my\u001b[0m\u001b[0;34m)\u001b[0m\u001b[0;34m\u001b[0m\u001b[0m\n\u001b[1;32m     13\u001b[0m     \u001b[0;32melse\u001b[0m\u001b[0;34m:\u001b[0m\u001b[0;34m\u001b[0m\u001b[0m\n\u001b[0;32m---> 14\u001b[0;31m         \u001b[0mdist_end1\u001b[0m \u001b[0;34m=\u001b[0m \u001b[0mpoint2dist\u001b[0m\u001b[0;34m(\u001b[0m\u001b[0my\u001b[0m\u001b[0;34m[\u001b[0m\u001b[0;36m0\u001b[0m\u001b[0;34m]\u001b[0m\u001b[0;34m,\u001b[0m \u001b[0mx\u001b[0m\u001b[0;34m)\u001b[0m\u001b[0;34m\u001b[0m\u001b[0m\n\u001b[0m\u001b[1;32m     15\u001b[0m         \u001b[0mdist_end2\u001b[0m \u001b[0;34m=\u001b[0m \u001b[0mpoint2dist\u001b[0m\u001b[0;34m(\u001b[0m\u001b[0my\u001b[0m\u001b[0;34m[\u001b[0m\u001b[0;36m1\u001b[0m\u001b[0;34m]\u001b[0m\u001b[0;34m,\u001b[0m \u001b[0mx\u001b[0m\u001b[0;34m)\u001b[0m\u001b[0;34m\u001b[0m\u001b[0m\n\u001b[1;32m     16\u001b[0m     \u001b[0mdist\u001b[0m \u001b[0;34m=\u001b[0m \u001b[0mdist_end1\u001b[0m\u001b[0;34m+\u001b[0m\u001b[0mdist_end2\u001b[0m\u001b[0;34m\u001b[0m\u001b[0m\n",
      "\u001b[0;32m<ipython-input-48-b52d50629380>\u001b[0m in \u001b[0;36mpoint2dist\u001b[0;34m(point, line)\u001b[0m\n\u001b[1;32m      5\u001b[0m         \u001b[0;32mreturn\u001b[0m \u001b[0;36m0\u001b[0m\u001b[0;34m\u001b[0m\u001b[0m\n\u001b[1;32m      6\u001b[0m     \u001b[0;32melse\u001b[0m\u001b[0;34m:\u001b[0m\u001b[0;34m\u001b[0m\u001b[0m\n\u001b[0;32m----> 7\u001b[0;31m         \u001b[0;32mreturn\u001b[0m \u001b[0mnp\u001b[0m\u001b[0;34m.\u001b[0m\u001b[0mlinalg\u001b[0m\u001b[0;34m.\u001b[0m\u001b[0mnorm\u001b[0m\u001b[0;34m(\u001b[0m\u001b[0mnp\u001b[0m\u001b[0;34m.\u001b[0m\u001b[0mcross\u001b[0m\u001b[0;34m(\u001b[0m\u001b[0mpoint\u001b[0m\u001b[0;34m-\u001b[0m\u001b[0mline\u001b[0m\u001b[0;34m[\u001b[0m\u001b[0;36m0\u001b[0m\u001b[0;34m]\u001b[0m\u001b[0;34m,\u001b[0m \u001b[0mline\u001b[0m\u001b[0;34m[\u001b[0m\u001b[0;36m1\u001b[0m\u001b[0;34m]\u001b[0m\u001b[0;34m-\u001b[0m\u001b[0mline\u001b[0m\u001b[0;34m[\u001b[0m\u001b[0;36m0\u001b[0m\u001b[0;34m]\u001b[0m\u001b[0;34m)\u001b[0m\u001b[0;34m)\u001b[0m\u001b[0;34m/\u001b[0m\u001b[0mlinelen\u001b[0m\u001b[0;34m\u001b[0m\u001b[0m\n\u001b[0m\u001b[1;32m      8\u001b[0m \u001b[0;34m\u001b[0m\u001b[0m\n\u001b[1;32m      9\u001b[0m \u001b[0;32mdef\u001b[0m \u001b[0mvertical_distance\u001b[0m\u001b[0;34m(\u001b[0m\u001b[0mx\u001b[0m\u001b[0;34m,\u001b[0m \u001b[0my\u001b[0m\u001b[0;34m)\u001b[0m\u001b[0;34m:\u001b[0m\u001b[0;34m\u001b[0m\u001b[0m\n",
      "\u001b[0;32m/usr/lib/python2.7/dist-packages/numpy/core/numeric.pyc\u001b[0m in \u001b[0;36mcross\u001b[0;34m(a, b, axisa, axisb, axisc, axis)\u001b[0m\n\u001b[1;32m   1767\u001b[0m            \"(dimension must be 2 or 3)\")\n\u001b[1;32m   1768\u001b[0m     \u001b[0;32mif\u001b[0m \u001b[0ma\u001b[0m\u001b[0;34m.\u001b[0m\u001b[0mshape\u001b[0m\u001b[0;34m[\u001b[0m\u001b[0;34m-\u001b[0m\u001b[0;36m1\u001b[0m\u001b[0;34m]\u001b[0m \u001b[0;32mnot\u001b[0m \u001b[0;32min\u001b[0m \u001b[0;34m(\u001b[0m\u001b[0;36m2\u001b[0m\u001b[0;34m,\u001b[0m \u001b[0;36m3\u001b[0m\u001b[0;34m)\u001b[0m \u001b[0;32mor\u001b[0m \u001b[0mb\u001b[0m\u001b[0;34m.\u001b[0m\u001b[0mshape\u001b[0m\u001b[0;34m[\u001b[0m\u001b[0;34m-\u001b[0m\u001b[0;36m1\u001b[0m\u001b[0;34m]\u001b[0m \u001b[0;32mnot\u001b[0m \u001b[0;32min\u001b[0m \u001b[0;34m(\u001b[0m\u001b[0;36m2\u001b[0m\u001b[0;34m,\u001b[0m \u001b[0;36m3\u001b[0m\u001b[0;34m)\u001b[0m\u001b[0;34m:\u001b[0m\u001b[0;34m\u001b[0m\u001b[0m\n\u001b[0;32m-> 1769\u001b[0;31m         \u001b[0;32mraise\u001b[0m \u001b[0mValueError\u001b[0m\u001b[0;34m(\u001b[0m\u001b[0mmsg\u001b[0m\u001b[0;34m)\u001b[0m\u001b[0;34m\u001b[0m\u001b[0m\n\u001b[0m\u001b[1;32m   1770\u001b[0m \u001b[0;34m\u001b[0m\u001b[0m\n\u001b[1;32m   1771\u001b[0m     \u001b[0;31m# Create the output array\u001b[0m\u001b[0;34m\u001b[0m\u001b[0;34m\u001b[0m\u001b[0m\n",
      "\u001b[0;31mValueError\u001b[0m: incompatible dimensions for cross product\n(dimension must be 2 or 3)"
     ]
    }
   ],
   "source": [
    "tree = BallTree(indexed_segment,leaf_size=10,  metric=segment_line_dist)"
   ]
  },
  {
   "cell_type": "code",
   "execution_count": 59,
   "metadata": {
    "collapsed": false
   },
   "outputs": [
    {
     "data": {
      "text/plain": [
       "'function'"
      ]
     },
     "execution_count": 59,
     "metadata": {},
     "output_type": "execute_result"
    }
   ],
   "source": [
    "segment_line_dist.__class__.__name__"
   ]
  },
  {
   "cell_type": "code",
   "execution_count": 23,
   "metadata": {
    "collapsed": false
   },
   "outputs": [
    {
     "ename": "ValueError",
     "evalue": "incompatible dimensions for cross product\n(dimension must be 2 or 3)",
     "output_type": "error",
     "traceback": [
      "\u001b[0;31m\u001b[0m",
      "\u001b[0;31mValueError\u001b[0mTraceback (most recent call last)",
      "\u001b[0;32m<ipython-input-23-fb320bbfe98a>\u001b[0m in \u001b[0;36m<module>\u001b[0;34m()\u001b[0m\n\u001b[0;32m----> 1\u001b[0;31m \u001b[0mDistanceMetric\u001b[0m\u001b[0;34m.\u001b[0m\u001b[0mget_metric\u001b[0m\u001b[0;34m(\u001b[0m\u001b[0msegment_line_dist\u001b[0m\u001b[0;34m)\u001b[0m\u001b[0;34m\u001b[0m\u001b[0m\n\u001b[0m",
      "\u001b[0;32msklearn/neighbors/dist_metrics.pyx\u001b[0m in \u001b[0;36msklearn.neighbors.dist_metrics.DistanceMetric.get_metric (sklearn/neighbors/dist_metrics.c:4450)\u001b[0;34m()\u001b[0m\n",
      "\u001b[0;32msklearn/neighbors/dist_metrics.pyx\u001b[0m in \u001b[0;36msklearn.neighbors.dist_metrics.PyFuncDistance.__init__ (sklearn/neighbors/dist_metrics.c:11290)\u001b[0;34m()\u001b[0m\n",
      "\u001b[0;32m<ipython-input-20-8a8d67d19c4d>\u001b[0m in \u001b[0;36msegment_line_dist\u001b[0;34m(xl, yl)\u001b[0m\n\u001b[1;32m      4\u001b[0m     \u001b[0myl\u001b[0m \u001b[0;34m=\u001b[0m \u001b[0myl\u001b[0m\u001b[0;34m[\u001b[0m\u001b[0;34m:\u001b[0m\u001b[0;34m-\u001b[0m\u001b[0mNUM_INDEX\u001b[0m\u001b[0;34m]\u001b[0m\u001b[0;34m\u001b[0m\u001b[0m\n\u001b[1;32m      5\u001b[0m     \u001b[0mdimension\u001b[0m \u001b[0;34m=\u001b[0m \u001b[0mlen\u001b[0m\u001b[0;34m(\u001b[0m\u001b[0mxl\u001b[0m\u001b[0;34m)\u001b[0m\u001b[0;34m/\u001b[0m\u001b[0;36m2\u001b[0m\u001b[0;34m\u001b[0m\u001b[0m\n\u001b[0;32m----> 6\u001b[0;31m     \u001b[0;32mreturn\u001b[0m \u001b[0mline_distance\u001b[0m\u001b[0;34m(\u001b[0m\u001b[0;34m(\u001b[0m\u001b[0mxl\u001b[0m\u001b[0;34m[\u001b[0m\u001b[0;34m:\u001b[0m\u001b[0mdimension\u001b[0m\u001b[0;34m]\u001b[0m\u001b[0;34m,\u001b[0m \u001b[0mxl\u001b[0m\u001b[0;34m[\u001b[0m\u001b[0mdimension\u001b[0m\u001b[0;34m:\u001b[0m\u001b[0;34m]\u001b[0m\u001b[0;34m)\u001b[0m\u001b[0;34m,\u001b[0m \u001b[0;34m(\u001b[0m\u001b[0myl\u001b[0m\u001b[0;34m[\u001b[0m\u001b[0;34m:\u001b[0m\u001b[0mdimension\u001b[0m\u001b[0;34m]\u001b[0m\u001b[0;34m,\u001b[0m \u001b[0myl\u001b[0m\u001b[0;34m[\u001b[0m\u001b[0mdimension\u001b[0m\u001b[0;34m:\u001b[0m\u001b[0;34m]\u001b[0m\u001b[0;34m)\u001b[0m\u001b[0;34m)\u001b[0m\u001b[0;34m\u001b[0m\u001b[0m\n\u001b[0m",
      "\u001b[0;32m<ipython-input-7-b52d50629380>\u001b[0m in \u001b[0;36mline_distance\u001b[0;34m(x, y)\u001b[0m\n\u001b[1;32m     41\u001b[0m \u001b[0;34m\u001b[0m\u001b[0m\n\u001b[1;32m     42\u001b[0m \u001b[0;32mdef\u001b[0m \u001b[0mline_distance\u001b[0m\u001b[0;34m(\u001b[0m\u001b[0mx\u001b[0m\u001b[0;34m,\u001b[0m \u001b[0my\u001b[0m\u001b[0;34m)\u001b[0m\u001b[0;34m:\u001b[0m\u001b[0;34m\u001b[0m\u001b[0m\n\u001b[0;32m---> 43\u001b[0;31m     \u001b[0;32mreturn\u001b[0m \u001b[0mvertical_distance\u001b[0m\u001b[0;34m(\u001b[0m\u001b[0mx\u001b[0m\u001b[0;34m,\u001b[0m \u001b[0my\u001b[0m\u001b[0;34m)\u001b[0m\u001b[0;34m+\u001b[0m\u001b[0mparallel_distance\u001b[0m\u001b[0;34m(\u001b[0m\u001b[0mx\u001b[0m\u001b[0;34m,\u001b[0m \u001b[0my\u001b[0m\u001b[0;34m)\u001b[0m\u001b[0;34m+\u001b[0m\u001b[0mangular_distance\u001b[0m\u001b[0;34m(\u001b[0m\u001b[0mx\u001b[0m\u001b[0;34m,\u001b[0m \u001b[0my\u001b[0m\u001b[0;34m)\u001b[0m\u001b[0;34m\u001b[0m\u001b[0m\n\u001b[0m",
      "\u001b[0;32m<ipython-input-7-b52d50629380>\u001b[0m in \u001b[0;36mvertical_distance\u001b[0;34m(x, y)\u001b[0m\n\u001b[1;32m     12\u001b[0m         \u001b[0mdist_end2\u001b[0m \u001b[0;34m=\u001b[0m \u001b[0mpoint2dist\u001b[0m\u001b[0;34m(\u001b[0m\u001b[0mx\u001b[0m\u001b[0;34m[\u001b[0m\u001b[0;36m1\u001b[0m\u001b[0;34m]\u001b[0m\u001b[0;34m,\u001b[0m \u001b[0my\u001b[0m\u001b[0;34m)\u001b[0m\u001b[0;34m\u001b[0m\u001b[0m\n\u001b[1;32m     13\u001b[0m     \u001b[0;32melse\u001b[0m\u001b[0;34m:\u001b[0m\u001b[0;34m\u001b[0m\u001b[0m\n\u001b[0;32m---> 14\u001b[0;31m         \u001b[0mdist_end1\u001b[0m \u001b[0;34m=\u001b[0m \u001b[0mpoint2dist\u001b[0m\u001b[0;34m(\u001b[0m\u001b[0my\u001b[0m\u001b[0;34m[\u001b[0m\u001b[0;36m0\u001b[0m\u001b[0;34m]\u001b[0m\u001b[0;34m,\u001b[0m \u001b[0mx\u001b[0m\u001b[0;34m)\u001b[0m\u001b[0;34m\u001b[0m\u001b[0m\n\u001b[0m\u001b[1;32m     15\u001b[0m         \u001b[0mdist_end2\u001b[0m \u001b[0;34m=\u001b[0m \u001b[0mpoint2dist\u001b[0m\u001b[0;34m(\u001b[0m\u001b[0my\u001b[0m\u001b[0;34m[\u001b[0m\u001b[0;36m1\u001b[0m\u001b[0;34m]\u001b[0m\u001b[0;34m,\u001b[0m \u001b[0mx\u001b[0m\u001b[0;34m)\u001b[0m\u001b[0;34m\u001b[0m\u001b[0m\n\u001b[1;32m     16\u001b[0m     \u001b[0mdist\u001b[0m \u001b[0;34m=\u001b[0m \u001b[0mdist_end1\u001b[0m\u001b[0;34m+\u001b[0m\u001b[0mdist_end2\u001b[0m\u001b[0;34m\u001b[0m\u001b[0m\n",
      "\u001b[0;32m<ipython-input-7-b52d50629380>\u001b[0m in \u001b[0;36mpoint2dist\u001b[0;34m(point, line)\u001b[0m\n\u001b[1;32m      5\u001b[0m         \u001b[0;32mreturn\u001b[0m \u001b[0;36m0\u001b[0m\u001b[0;34m\u001b[0m\u001b[0m\n\u001b[1;32m      6\u001b[0m     \u001b[0;32melse\u001b[0m\u001b[0;34m:\u001b[0m\u001b[0;34m\u001b[0m\u001b[0m\n\u001b[0;32m----> 7\u001b[0;31m         \u001b[0;32mreturn\u001b[0m \u001b[0mnp\u001b[0m\u001b[0;34m.\u001b[0m\u001b[0mlinalg\u001b[0m\u001b[0;34m.\u001b[0m\u001b[0mnorm\u001b[0m\u001b[0;34m(\u001b[0m\u001b[0mnp\u001b[0m\u001b[0;34m.\u001b[0m\u001b[0mcross\u001b[0m\u001b[0;34m(\u001b[0m\u001b[0mpoint\u001b[0m\u001b[0;34m-\u001b[0m\u001b[0mline\u001b[0m\u001b[0;34m[\u001b[0m\u001b[0;36m0\u001b[0m\u001b[0;34m]\u001b[0m\u001b[0;34m,\u001b[0m \u001b[0mline\u001b[0m\u001b[0;34m[\u001b[0m\u001b[0;36m1\u001b[0m\u001b[0;34m]\u001b[0m\u001b[0;34m-\u001b[0m\u001b[0mline\u001b[0m\u001b[0;34m[\u001b[0m\u001b[0;36m0\u001b[0m\u001b[0;34m]\u001b[0m\u001b[0;34m)\u001b[0m\u001b[0;34m)\u001b[0m\u001b[0;34m/\u001b[0m\u001b[0mlinelen\u001b[0m\u001b[0;34m\u001b[0m\u001b[0m\n\u001b[0m\u001b[1;32m      8\u001b[0m \u001b[0;34m\u001b[0m\u001b[0m\n\u001b[1;32m      9\u001b[0m \u001b[0;32mdef\u001b[0m \u001b[0mvertical_distance\u001b[0m\u001b[0;34m(\u001b[0m\u001b[0mx\u001b[0m\u001b[0;34m,\u001b[0m \u001b[0my\u001b[0m\u001b[0;34m)\u001b[0m\u001b[0;34m:\u001b[0m\u001b[0;34m\u001b[0m\u001b[0m\n",
      "\u001b[0;32m/usr/lib/python2.7/dist-packages/numpy/core/numeric.pyc\u001b[0m in \u001b[0;36mcross\u001b[0;34m(a, b, axisa, axisb, axisc, axis)\u001b[0m\n\u001b[1;32m   1767\u001b[0m            \"(dimension must be 2 or 3)\")\n\u001b[1;32m   1768\u001b[0m     \u001b[0;32mif\u001b[0m \u001b[0ma\u001b[0m\u001b[0;34m.\u001b[0m\u001b[0mshape\u001b[0m\u001b[0;34m[\u001b[0m\u001b[0;34m-\u001b[0m\u001b[0;36m1\u001b[0m\u001b[0;34m]\u001b[0m \u001b[0;32mnot\u001b[0m \u001b[0;32min\u001b[0m \u001b[0;34m(\u001b[0m\u001b[0;36m2\u001b[0m\u001b[0;34m,\u001b[0m \u001b[0;36m3\u001b[0m\u001b[0;34m)\u001b[0m \u001b[0;32mor\u001b[0m \u001b[0mb\u001b[0m\u001b[0;34m.\u001b[0m\u001b[0mshape\u001b[0m\u001b[0;34m[\u001b[0m\u001b[0;34m-\u001b[0m\u001b[0;36m1\u001b[0m\u001b[0;34m]\u001b[0m \u001b[0;32mnot\u001b[0m \u001b[0;32min\u001b[0m \u001b[0;34m(\u001b[0m\u001b[0;36m2\u001b[0m\u001b[0;34m,\u001b[0m \u001b[0;36m3\u001b[0m\u001b[0;34m)\u001b[0m\u001b[0;34m:\u001b[0m\u001b[0;34m\u001b[0m\u001b[0m\n\u001b[0;32m-> 1769\u001b[0;31m         \u001b[0;32mraise\u001b[0m \u001b[0mValueError\u001b[0m\u001b[0;34m(\u001b[0m\u001b[0mmsg\u001b[0m\u001b[0;34m)\u001b[0m\u001b[0;34m\u001b[0m\u001b[0m\n\u001b[0m\u001b[1;32m   1770\u001b[0m \u001b[0;34m\u001b[0m\u001b[0m\n\u001b[1;32m   1771\u001b[0m     \u001b[0;31m# Create the output array\u001b[0m\u001b[0;34m\u001b[0m\u001b[0;34m\u001b[0m\u001b[0m\n",
      "\u001b[0;31mValueError\u001b[0m: incompatible dimensions for cross product\n(dimension must be 2 or 3)"
     ]
    }
   ],
   "source": [
    "DistanceMetric.get_metric(segment_line_dist)"
   ]
  },
  {
   "cell_type": "code",
   "execution_count": 67,
   "metadata": {
    "collapsed": false
   },
   "outputs": [
    {
     "name": "stdout",
     "output_type": "stream",
     "text": [
      "> \u001b[0;32m/usr/lib/python2.7/dist-packages/numpy/core/numeric.py\u001b[0m(1769)\u001b[0;36mcross\u001b[0;34m()\u001b[0m\n",
      "\u001b[0;32m   1767 \u001b[0;31m           \"(dimension must be 2 or 3)\")\n",
      "\u001b[0m\u001b[0;32m   1768 \u001b[0;31m    \u001b[0;32mif\u001b[0m \u001b[0ma\u001b[0m\u001b[0;34m.\u001b[0m\u001b[0mshape\u001b[0m\u001b[0;34m[\u001b[0m\u001b[0;34m-\u001b[0m\u001b[0;36m1\u001b[0m\u001b[0;34m]\u001b[0m \u001b[0;32mnot\u001b[0m \u001b[0;32min\u001b[0m \u001b[0;34m(\u001b[0m\u001b[0;36m2\u001b[0m\u001b[0;34m,\u001b[0m \u001b[0;36m3\u001b[0m\u001b[0;34m)\u001b[0m \u001b[0;32mor\u001b[0m \u001b[0mb\u001b[0m\u001b[0;34m.\u001b[0m\u001b[0mshape\u001b[0m\u001b[0;34m[\u001b[0m\u001b[0;34m-\u001b[0m\u001b[0;36m1\u001b[0m\u001b[0;34m]\u001b[0m \u001b[0;32mnot\u001b[0m \u001b[0;32min\u001b[0m \u001b[0;34m(\u001b[0m\u001b[0;36m2\u001b[0m\u001b[0;34m,\u001b[0m \u001b[0;36m3\u001b[0m\u001b[0;34m)\u001b[0m\u001b[0;34m:\u001b[0m\u001b[0;34m\u001b[0m\u001b[0m\n",
      "\u001b[0m\u001b[0;32m-> 1769 \u001b[0;31m        \u001b[0;32mraise\u001b[0m \u001b[0mValueError\u001b[0m\u001b[0;34m(\u001b[0m\u001b[0mmsg\u001b[0m\u001b[0;34m)\u001b[0m\u001b[0;34m\u001b[0m\u001b[0m\n",
      "\u001b[0m\u001b[0;32m   1770 \u001b[0;31m\u001b[0;34m\u001b[0m\u001b[0m\n",
      "\u001b[0m\u001b[0;32m   1771 \u001b[0;31m    \u001b[0;31m# Create the output array\u001b[0m\u001b[0;34m\u001b[0m\u001b[0;34m\u001b[0m\u001b[0m\n",
      "\u001b[0m\n",
      "ipdb> u\n",
      "> \u001b[0;32m<ipython-input-48-b52d50629380>\u001b[0m(7)\u001b[0;36mpoint2dist\u001b[0;34m()\u001b[0m\n",
      "\u001b[0;32m      5 \u001b[0;31m        \u001b[0;32mreturn\u001b[0m \u001b[0;36m0\u001b[0m\u001b[0;34m\u001b[0m\u001b[0m\n",
      "\u001b[0m\u001b[0;32m      6 \u001b[0;31m    \u001b[0;32melse\u001b[0m\u001b[0;34m:\u001b[0m\u001b[0;34m\u001b[0m\u001b[0m\n",
      "\u001b[0m\u001b[0;32m----> 7 \u001b[0;31m        \u001b[0;32mreturn\u001b[0m \u001b[0mnp\u001b[0m\u001b[0;34m.\u001b[0m\u001b[0mlinalg\u001b[0m\u001b[0;34m.\u001b[0m\u001b[0mnorm\u001b[0m\u001b[0;34m(\u001b[0m\u001b[0mnp\u001b[0m\u001b[0;34m.\u001b[0m\u001b[0mcross\u001b[0m\u001b[0;34m(\u001b[0m\u001b[0mpoint\u001b[0m\u001b[0;34m-\u001b[0m\u001b[0mline\u001b[0m\u001b[0;34m[\u001b[0m\u001b[0;36m0\u001b[0m\u001b[0;34m]\u001b[0m\u001b[0;34m,\u001b[0m \u001b[0mline\u001b[0m\u001b[0;34m[\u001b[0m\u001b[0;36m1\u001b[0m\u001b[0;34m]\u001b[0m\u001b[0;34m-\u001b[0m\u001b[0mline\u001b[0m\u001b[0;34m[\u001b[0m\u001b[0;36m0\u001b[0m\u001b[0;34m]\u001b[0m\u001b[0;34m)\u001b[0m\u001b[0;34m)\u001b[0m\u001b[0;34m/\u001b[0m\u001b[0mlinelen\u001b[0m\u001b[0;34m\u001b[0m\u001b[0m\n",
      "\u001b[0m\u001b[0;32m      8 \u001b[0;31m\u001b[0;34m\u001b[0m\u001b[0m\n",
      "\u001b[0m\u001b[0;32m      9 \u001b[0;31m\u001b[0;32mdef\u001b[0m \u001b[0mvertical_distance\u001b[0m\u001b[0;34m(\u001b[0m\u001b[0mx\u001b[0m\u001b[0;34m,\u001b[0m \u001b[0my\u001b[0m\u001b[0;34m)\u001b[0m\u001b[0;34m:\u001b[0m\u001b[0;34m\u001b[0m\u001b[0m\n",
      "\u001b[0m\n",
      "ipdb> u\n",
      "> \u001b[0;32m<ipython-input-48-b52d50629380>\u001b[0m(14)\u001b[0;36mvertical_distance\u001b[0;34m()\u001b[0m\n",
      "\u001b[0;32m     12 \u001b[0;31m        \u001b[0mdist_end2\u001b[0m \u001b[0;34m=\u001b[0m \u001b[0mpoint2dist\u001b[0m\u001b[0;34m(\u001b[0m\u001b[0mx\u001b[0m\u001b[0;34m[\u001b[0m\u001b[0;36m1\u001b[0m\u001b[0;34m]\u001b[0m\u001b[0;34m,\u001b[0m \u001b[0my\u001b[0m\u001b[0;34m)\u001b[0m\u001b[0;34m\u001b[0m\u001b[0m\n",
      "\u001b[0m\u001b[0;32m     13 \u001b[0;31m    \u001b[0;32melse\u001b[0m\u001b[0;34m:\u001b[0m\u001b[0;34m\u001b[0m\u001b[0m\n",
      "\u001b[0m\u001b[0;32m---> 14 \u001b[0;31m        \u001b[0mdist_end1\u001b[0m \u001b[0;34m=\u001b[0m \u001b[0mpoint2dist\u001b[0m\u001b[0;34m(\u001b[0m\u001b[0my\u001b[0m\u001b[0;34m[\u001b[0m\u001b[0;36m0\u001b[0m\u001b[0;34m]\u001b[0m\u001b[0;34m,\u001b[0m \u001b[0mx\u001b[0m\u001b[0;34m)\u001b[0m\u001b[0;34m\u001b[0m\u001b[0m\n",
      "\u001b[0m\u001b[0;32m     15 \u001b[0;31m        \u001b[0mdist_end2\u001b[0m \u001b[0;34m=\u001b[0m \u001b[0mpoint2dist\u001b[0m\u001b[0;34m(\u001b[0m\u001b[0my\u001b[0m\u001b[0;34m[\u001b[0m\u001b[0;36m1\u001b[0m\u001b[0;34m]\u001b[0m\u001b[0;34m,\u001b[0m \u001b[0mx\u001b[0m\u001b[0;34m)\u001b[0m\u001b[0;34m\u001b[0m\u001b[0m\n",
      "\u001b[0m\u001b[0;32m     16 \u001b[0;31m    \u001b[0mdist\u001b[0m \u001b[0;34m=\u001b[0m \u001b[0mdist_end1\u001b[0m\u001b[0;34m+\u001b[0m\u001b[0mdist_end2\u001b[0m\u001b[0;34m\u001b[0m\u001b[0m\n",
      "\u001b[0m\n",
      "ipdb> u\n",
      "> \u001b[0;32m<ipython-input-48-b52d50629380>\u001b[0m(43)\u001b[0;36mline_distance\u001b[0;34m()\u001b[0m\n",
      "\u001b[0;32m     39 \u001b[0;31m    \u001b[0;32melse\u001b[0m\u001b[0;34m:\u001b[0m\u001b[0;34m\u001b[0m\u001b[0m\n",
      "\u001b[0m\u001b[0;32m     40 \u001b[0;31m        \u001b[0;32mreturn\u001b[0m \u001b[0;36m0\u001b[0m \u001b[0;32mif\u001b[0m \u001b[0mlonger_len\u001b[0m\u001b[0;34m==\u001b[0m\u001b[0;36m0\u001b[0m \u001b[0;32melse\u001b[0m \u001b[0mnp\u001b[0m\u001b[0;34m.\u001b[0m\u001b[0mabs\u001b[0m\u001b[0;34m(\u001b[0m\u001b[0mnp\u001b[0m\u001b[0;34m.\u001b[0m\u001b[0mcross\u001b[0m\u001b[0;34m(\u001b[0m\u001b[0mx\u001b[0m\u001b[0;34m[\u001b[0m\u001b[0;36m1\u001b[0m\u001b[0;34m]\u001b[0m\u001b[0;34m-\u001b[0m\u001b[0mx\u001b[0m\u001b[0;34m[\u001b[0m\u001b[0;36m0\u001b[0m\u001b[0;34m]\u001b[0m\u001b[0;34m,\u001b[0m \u001b[0my\u001b[0m\u001b[0;34m[\u001b[0m\u001b[0;36m1\u001b[0m\u001b[0;34m]\u001b[0m\u001b[0;34m-\u001b[0m\u001b[0my\u001b[0m\u001b[0;34m[\u001b[0m\u001b[0;36m0\u001b[0m\u001b[0;34m]\u001b[0m\u001b[0;34m)\u001b[0m\u001b[0;34m)\u001b[0m\u001b[0;34m/\u001b[0m\u001b[0mlonger_len\u001b[0m\u001b[0;34m\u001b[0m\u001b[0m\n",
      "\u001b[0m\u001b[0;32m     41 \u001b[0;31m\u001b[0;34m\u001b[0m\u001b[0m\n",
      "\u001b[0m\u001b[0;32m     42 \u001b[0;31m\u001b[0;32mdef\u001b[0m \u001b[0mline_distance\u001b[0m\u001b[0;34m(\u001b[0m\u001b[0mx\u001b[0m\u001b[0;34m,\u001b[0m \u001b[0my\u001b[0m\u001b[0;34m)\u001b[0m\u001b[0;34m:\u001b[0m\u001b[0;34m\u001b[0m\u001b[0m\n",
      "\u001b[0m\u001b[0;32m---> 43 \u001b[0;31m    \u001b[0;32mreturn\u001b[0m \u001b[0mvertical_distance\u001b[0m\u001b[0;34m(\u001b[0m\u001b[0mx\u001b[0m\u001b[0;34m,\u001b[0m \u001b[0my\u001b[0m\u001b[0;34m)\u001b[0m\u001b[0;34m+\u001b[0m\u001b[0mparallel_distance\u001b[0m\u001b[0;34m(\u001b[0m\u001b[0mx\u001b[0m\u001b[0;34m,\u001b[0m \u001b[0my\u001b[0m\u001b[0;34m)\u001b[0m\u001b[0;34m+\u001b[0m\u001b[0mangular_distance\u001b[0m\u001b[0;34m(\u001b[0m\u001b[0mx\u001b[0m\u001b[0;34m,\u001b[0m \u001b[0my\u001b[0m\u001b[0;34m)\u001b[0m\u001b[0;34m\u001b[0m\u001b[0m\n",
      "\u001b[0m\n",
      "ipdb> u\n",
      "> \u001b[0;32m<ipython-input-64-8a8d67d19c4d>\u001b[0m(6)\u001b[0;36msegment_line_dist\u001b[0;34m()\u001b[0m\n",
      "\u001b[0;32m      2 \u001b[0;31m    \u001b[0;31m#pdb.set_trace()\u001b[0m\u001b[0;34m\u001b[0m\u001b[0;34m\u001b[0m\u001b[0m\n",
      "\u001b[0m\u001b[0;32m      3 \u001b[0;31m    \u001b[0mxl\u001b[0m \u001b[0;34m=\u001b[0m \u001b[0mxl\u001b[0m\u001b[0;34m[\u001b[0m\u001b[0;34m:\u001b[0m\u001b[0;34m-\u001b[0m\u001b[0mNUM_INDEX\u001b[0m\u001b[0;34m]\u001b[0m\u001b[0;34m\u001b[0m\u001b[0m\n",
      "\u001b[0m\u001b[0;32m      4 \u001b[0;31m    \u001b[0myl\u001b[0m \u001b[0;34m=\u001b[0m \u001b[0myl\u001b[0m\u001b[0;34m[\u001b[0m\u001b[0;34m:\u001b[0m\u001b[0;34m-\u001b[0m\u001b[0mNUM_INDEX\u001b[0m\u001b[0;34m]\u001b[0m\u001b[0;34m\u001b[0m\u001b[0m\n",
      "\u001b[0m\u001b[0;32m      5 \u001b[0;31m    \u001b[0mdimension\u001b[0m \u001b[0;34m=\u001b[0m \u001b[0mlen\u001b[0m\u001b[0;34m(\u001b[0m\u001b[0mxl\u001b[0m\u001b[0;34m)\u001b[0m\u001b[0;34m/\u001b[0m\u001b[0;36m2\u001b[0m\u001b[0;34m\u001b[0m\u001b[0m\n",
      "\u001b[0m\u001b[0;32m----> 6 \u001b[0;31m    \u001b[0;32mreturn\u001b[0m \u001b[0mline_distance\u001b[0m\u001b[0;34m(\u001b[0m\u001b[0;34m(\u001b[0m\u001b[0mxl\u001b[0m\u001b[0;34m[\u001b[0m\u001b[0;34m:\u001b[0m\u001b[0mdimension\u001b[0m\u001b[0;34m]\u001b[0m\u001b[0;34m,\u001b[0m \u001b[0mxl\u001b[0m\u001b[0;34m[\u001b[0m\u001b[0mdimension\u001b[0m\u001b[0;34m:\u001b[0m\u001b[0;34m]\u001b[0m\u001b[0;34m)\u001b[0m\u001b[0;34m,\u001b[0m \u001b[0;34m(\u001b[0m\u001b[0myl\u001b[0m\u001b[0;34m[\u001b[0m\u001b[0;34m:\u001b[0m\u001b[0mdimension\u001b[0m\u001b[0;34m]\u001b[0m\u001b[0;34m,\u001b[0m \u001b[0myl\u001b[0m\u001b[0;34m[\u001b[0m\u001b[0mdimension\u001b[0m\u001b[0;34m:\u001b[0m\u001b[0;34m]\u001b[0m\u001b[0;34m)\u001b[0m\u001b[0;34m)\u001b[0m\u001b[0;34m\u001b[0m\u001b[0m\n",
      "\u001b[0m\n",
      "ipdb> xl\n",
      "array([ 0.02544845,  0.15009638,  0.81337249,  0.83873499,  0.16201713,\n",
      "        0.07413522,  0.56092073,  0.4566144 ])\n",
      "ipdb> yl\n",
      "array([ 0.02544845,  0.15009638,  0.81337249,  0.83873499,  0.16201713,\n",
      "        0.07413522,  0.56092073,  0.4566144 ])\n",
      "ipdb> q\n"
     ]
    }
   ],
   "source": [
    "%debug"
   ]
  },
  {
   "cell_type": "code",
   "execution_count": 62,
   "metadata": {
    "collapsed": false
   },
   "outputs": [
    {
     "data": {
      "text/html": [
       "<div>\n",
       "<table border=\"1\" class=\"dataframe\">\n",
       "  <thead>\n",
       "    <tr style=\"text-align: right;\">\n",
       "      <th></th>\n",
       "      <th>0</th>\n",
       "      <th>1</th>\n",
       "      <th>2</th>\n",
       "      <th>3</th>\n",
       "      <th>4</th>\n",
       "      <th>5</th>\n",
       "      <th>6</th>\n",
       "    </tr>\n",
       "  </thead>\n",
       "  <tbody>\n",
       "    <tr>\n",
       "      <th>0</th>\n",
       "      <td>39.996948</td>\n",
       "      <td>116.325747</td>\n",
       "      <td>0</td>\n",
       "      <td>492</td>\n",
       "      <td>39755.973530</td>\n",
       "      <td>2008-11-03</td>\n",
       "      <td>23:21:53</td>\n",
       "    </tr>\n",
       "    <tr>\n",
       "      <th>1</th>\n",
       "      <td>39.996849</td>\n",
       "      <td>116.325763</td>\n",
       "      <td>0</td>\n",
       "      <td>491</td>\n",
       "      <td>39755.973588</td>\n",
       "      <td>2008-11-03</td>\n",
       "      <td>23:21:58</td>\n",
       "    </tr>\n",
       "    <tr>\n",
       "      <th>2</th>\n",
       "      <td>39.994409</td>\n",
       "      <td>116.326968</td>\n",
       "      <td>0</td>\n",
       "      <td>23</td>\n",
       "      <td>39755.973646</td>\n",
       "      <td>2008-11-03</td>\n",
       "      <td>23:22:03</td>\n",
       "    </tr>\n",
       "    <tr>\n",
       "      <th>3</th>\n",
       "      <td>39.995076</td>\n",
       "      <td>116.326629</td>\n",
       "      <td>0</td>\n",
       "      <td>70</td>\n",
       "      <td>39755.973704</td>\n",
       "      <td>2008-11-03</td>\n",
       "      <td>23:22:08</td>\n",
       "    </tr>\n",
       "    <tr>\n",
       "      <th>4</th>\n",
       "      <td>39.995193</td>\n",
       "      <td>116.326572</td>\n",
       "      <td>0</td>\n",
       "      <td>75</td>\n",
       "      <td>39755.973762</td>\n",
       "      <td>2008-11-03</td>\n",
       "      <td>23:22:13</td>\n",
       "    </tr>\n",
       "    <tr>\n",
       "      <th>5</th>\n",
       "      <td>39.995358</td>\n",
       "      <td>116.326480</td>\n",
       "      <td>0</td>\n",
       "      <td>94</td>\n",
       "      <td>39755.973819</td>\n",
       "      <td>2008-11-03</td>\n",
       "      <td>23:22:18</td>\n",
       "    </tr>\n",
       "    <tr>\n",
       "      <th>6</th>\n",
       "      <td>39.995464</td>\n",
       "      <td>116.326425</td>\n",
       "      <td>0</td>\n",
       "      <td>110</td>\n",
       "      <td>39755.973877</td>\n",
       "      <td>2008-11-03</td>\n",
       "      <td>23:22:23</td>\n",
       "    </tr>\n",
       "    <tr>\n",
       "      <th>7</th>\n",
       "      <td>39.995647</td>\n",
       "      <td>116.326402</td>\n",
       "      <td>0</td>\n",
       "      <td>133</td>\n",
       "      <td>39755.973935</td>\n",
       "      <td>2008-11-03</td>\n",
       "      <td>23:22:28</td>\n",
       "    </tr>\n",
       "    <tr>\n",
       "      <th>8</th>\n",
       "      <td>39.995868</td>\n",
       "      <td>116.326379</td>\n",
       "      <td>0</td>\n",
       "      <td>158</td>\n",
       "      <td>39755.973993</td>\n",
       "      <td>2008-11-03</td>\n",
       "      <td>23:22:33</td>\n",
       "    </tr>\n",
       "    <tr>\n",
       "      <th>9</th>\n",
       "      <td>39.996123</td>\n",
       "      <td>116.326359</td>\n",
       "      <td>0</td>\n",
       "      <td>186</td>\n",
       "      <td>39755.974051</td>\n",
       "      <td>2008-11-03</td>\n",
       "      <td>23:22:38</td>\n",
       "    </tr>\n",
       "    <tr>\n",
       "      <th>10</th>\n",
       "      <td>39.996377</td>\n",
       "      <td>116.326410</td>\n",
       "      <td>0</td>\n",
       "      <td>220</td>\n",
       "      <td>39755.974109</td>\n",
       "      <td>2008-11-03</td>\n",
       "      <td>23:22:43</td>\n",
       "    </tr>\n",
       "    <tr>\n",
       "      <th>11</th>\n",
       "      <td>39.996555</td>\n",
       "      <td>116.326393</td>\n",
       "      <td>0</td>\n",
       "      <td>265</td>\n",
       "      <td>39755.974167</td>\n",
       "      <td>2008-11-03</td>\n",
       "      <td>23:22:48</td>\n",
       "    </tr>\n",
       "    <tr>\n",
       "      <th>12</th>\n",
       "      <td>39.996692</td>\n",
       "      <td>116.326337</td>\n",
       "      <td>0</td>\n",
       "      <td>297</td>\n",
       "      <td>39755.974225</td>\n",
       "      <td>2008-11-03</td>\n",
       "      <td>23:22:53</td>\n",
       "    </tr>\n",
       "    <tr>\n",
       "      <th>13</th>\n",
       "      <td>39.996761</td>\n",
       "      <td>116.326232</td>\n",
       "      <td>0</td>\n",
       "      <td>263</td>\n",
       "      <td>39755.974282</td>\n",
       "      <td>2008-11-03</td>\n",
       "      <td>23:22:58</td>\n",
       "    </tr>\n",
       "    <tr>\n",
       "      <th>14</th>\n",
       "      <td>39.997003</td>\n",
       "      <td>116.326244</td>\n",
       "      <td>0</td>\n",
       "      <td>259</td>\n",
       "      <td>39755.974340</td>\n",
       "      <td>2008-11-03</td>\n",
       "      <td>23:23:03</td>\n",
       "    </tr>\n",
       "    <tr>\n",
       "      <th>15</th>\n",
       "      <td>39.997222</td>\n",
       "      <td>116.326237</td>\n",
       "      <td>0</td>\n",
       "      <td>270</td>\n",
       "      <td>39755.974398</td>\n",
       "      <td>2008-11-03</td>\n",
       "      <td>23:23:08</td>\n",
       "    </tr>\n",
       "    <tr>\n",
       "      <th>16</th>\n",
       "      <td>39.997479</td>\n",
       "      <td>116.326218</td>\n",
       "      <td>0</td>\n",
       "      <td>285</td>\n",
       "      <td>39755.974456</td>\n",
       "      <td>2008-11-03</td>\n",
       "      <td>23:23:13</td>\n",
       "    </tr>\n",
       "    <tr>\n",
       "      <th>17</th>\n",
       "      <td>39.997699</td>\n",
       "      <td>116.326260</td>\n",
       "      <td>0</td>\n",
       "      <td>298</td>\n",
       "      <td>39755.974514</td>\n",
       "      <td>2008-11-03</td>\n",
       "      <td>23:23:18</td>\n",
       "    </tr>\n",
       "    <tr>\n",
       "      <th>18</th>\n",
       "      <td>39.997912</td>\n",
       "      <td>116.326315</td>\n",
       "      <td>0</td>\n",
       "      <td>315</td>\n",
       "      <td>39755.974572</td>\n",
       "      <td>2008-11-03</td>\n",
       "      <td>23:23:23</td>\n",
       "    </tr>\n",
       "    <tr>\n",
       "      <th>19</th>\n",
       "      <td>39.998103</td>\n",
       "      <td>116.326331</td>\n",
       "      <td>0</td>\n",
       "      <td>327</td>\n",
       "      <td>39755.974630</td>\n",
       "      <td>2008-11-03</td>\n",
       "      <td>23:23:28</td>\n",
       "    </tr>\n",
       "    <tr>\n",
       "      <th>20</th>\n",
       "      <td>39.998310</td>\n",
       "      <td>116.326313</td>\n",
       "      <td>0</td>\n",
       "      <td>338</td>\n",
       "      <td>39755.974687</td>\n",
       "      <td>2008-11-03</td>\n",
       "      <td>23:23:33</td>\n",
       "    </tr>\n",
       "    <tr>\n",
       "      <th>21</th>\n",
       "      <td>39.998533</td>\n",
       "      <td>116.326294</td>\n",
       "      <td>0</td>\n",
       "      <td>355</td>\n",
       "      <td>39755.974745</td>\n",
       "      <td>2008-11-03</td>\n",
       "      <td>23:23:38</td>\n",
       "    </tr>\n",
       "    <tr>\n",
       "      <th>22</th>\n",
       "      <td>39.998733</td>\n",
       "      <td>116.326314</td>\n",
       "      <td>0</td>\n",
       "      <td>374</td>\n",
       "      <td>39755.974803</td>\n",
       "      <td>2008-11-03</td>\n",
       "      <td>23:23:43</td>\n",
       "    </tr>\n",
       "    <tr>\n",
       "      <th>23</th>\n",
       "      <td>39.998948</td>\n",
       "      <td>116.326337</td>\n",
       "      <td>0</td>\n",
       "      <td>403</td>\n",
       "      <td>39755.974861</td>\n",
       "      <td>2008-11-03</td>\n",
       "      <td>23:23:48</td>\n",
       "    </tr>\n",
       "    <tr>\n",
       "      <th>24</th>\n",
       "      <td>39.999166</td>\n",
       "      <td>116.326329</td>\n",
       "      <td>0</td>\n",
       "      <td>437</td>\n",
       "      <td>39755.974919</td>\n",
       "      <td>2008-11-03</td>\n",
       "      <td>23:23:53</td>\n",
       "    </tr>\n",
       "    <tr>\n",
       "      <th>25</th>\n",
       "      <td>39.999417</td>\n",
       "      <td>116.326330</td>\n",
       "      <td>0</td>\n",
       "      <td>458</td>\n",
       "      <td>39755.974977</td>\n",
       "      <td>2008-11-03</td>\n",
       "      <td>23:23:58</td>\n",
       "    </tr>\n",
       "    <tr>\n",
       "      <th>26</th>\n",
       "      <td>39.999521</td>\n",
       "      <td>116.326333</td>\n",
       "      <td>0</td>\n",
       "      <td>424</td>\n",
       "      <td>39755.975035</td>\n",
       "      <td>2008-11-03</td>\n",
       "      <td>23:24:03</td>\n",
       "    </tr>\n",
       "    <tr>\n",
       "      <th>27</th>\n",
       "      <td>39.999636</td>\n",
       "      <td>116.326287</td>\n",
       "      <td>0</td>\n",
       "      <td>387</td>\n",
       "      <td>39755.975093</td>\n",
       "      <td>2008-11-03</td>\n",
       "      <td>23:24:08</td>\n",
       "    </tr>\n",
       "    <tr>\n",
       "      <th>28</th>\n",
       "      <td>39.999646</td>\n",
       "      <td>116.326202</td>\n",
       "      <td>0</td>\n",
       "      <td>354</td>\n",
       "      <td>39755.975150</td>\n",
       "      <td>2008-11-03</td>\n",
       "      <td>23:24:13</td>\n",
       "    </tr>\n",
       "    <tr>\n",
       "      <th>29</th>\n",
       "      <td>39.999405</td>\n",
       "      <td>116.325983</td>\n",
       "      <td>0</td>\n",
       "      <td>314</td>\n",
       "      <td>39755.975208</td>\n",
       "      <td>2008-11-03</td>\n",
       "      <td>23:24:18</td>\n",
       "    </tr>\n",
       "    <tr>\n",
       "      <th>...</th>\n",
       "      <td>...</td>\n",
       "      <td>...</td>\n",
       "      <td>...</td>\n",
       "      <td>...</td>\n",
       "      <td>...</td>\n",
       "      <td>...</td>\n",
       "      <td>...</td>\n",
       "    </tr>\n",
       "    <tr>\n",
       "      <th>2201</th>\n",
       "      <td>40.002363</td>\n",
       "      <td>116.321089</td>\n",
       "      <td>0</td>\n",
       "      <td>300</td>\n",
       "      <td>39756.144942</td>\n",
       "      <td>2008-11-04</td>\n",
       "      <td>03:28:43</td>\n",
       "    </tr>\n",
       "    <tr>\n",
       "      <th>2202</th>\n",
       "      <td>40.002207</td>\n",
       "      <td>116.321095</td>\n",
       "      <td>0</td>\n",
       "      <td>322</td>\n",
       "      <td>39756.145000</td>\n",
       "      <td>2008-11-04</td>\n",
       "      <td>03:28:48</td>\n",
       "    </tr>\n",
       "    <tr>\n",
       "      <th>2203</th>\n",
       "      <td>40.002065</td>\n",
       "      <td>116.321106</td>\n",
       "      <td>0</td>\n",
       "      <td>323</td>\n",
       "      <td>39756.145058</td>\n",
       "      <td>2008-11-04</td>\n",
       "      <td>03:28:53</td>\n",
       "    </tr>\n",
       "    <tr>\n",
       "      <th>2204</th>\n",
       "      <td>40.001897</td>\n",
       "      <td>116.321113</td>\n",
       "      <td>0</td>\n",
       "      <td>332</td>\n",
       "      <td>39756.145116</td>\n",
       "      <td>2008-11-04</td>\n",
       "      <td>03:28:58</td>\n",
       "    </tr>\n",
       "    <tr>\n",
       "      <th>2205</th>\n",
       "      <td>40.001676</td>\n",
       "      <td>116.321166</td>\n",
       "      <td>0</td>\n",
       "      <td>334</td>\n",
       "      <td>39756.145174</td>\n",
       "      <td>2008-11-04</td>\n",
       "      <td>03:29:03</td>\n",
       "    </tr>\n",
       "    <tr>\n",
       "      <th>2206</th>\n",
       "      <td>40.001476</td>\n",
       "      <td>116.321240</td>\n",
       "      <td>0</td>\n",
       "      <td>334</td>\n",
       "      <td>39756.145231</td>\n",
       "      <td>2008-11-04</td>\n",
       "      <td>03:29:08</td>\n",
       "    </tr>\n",
       "    <tr>\n",
       "      <th>2207</th>\n",
       "      <td>40.001261</td>\n",
       "      <td>116.321348</td>\n",
       "      <td>0</td>\n",
       "      <td>337</td>\n",
       "      <td>39756.145289</td>\n",
       "      <td>2008-11-04</td>\n",
       "      <td>03:29:13</td>\n",
       "    </tr>\n",
       "    <tr>\n",
       "      <th>2208</th>\n",
       "      <td>40.001074</td>\n",
       "      <td>116.321458</td>\n",
       "      <td>0</td>\n",
       "      <td>337</td>\n",
       "      <td>39756.145347</td>\n",
       "      <td>2008-11-04</td>\n",
       "      <td>03:29:18</td>\n",
       "    </tr>\n",
       "    <tr>\n",
       "      <th>2209</th>\n",
       "      <td>40.000815</td>\n",
       "      <td>116.321600</td>\n",
       "      <td>0</td>\n",
       "      <td>343</td>\n",
       "      <td>39756.145405</td>\n",
       "      <td>2008-11-04</td>\n",
       "      <td>03:29:23</td>\n",
       "    </tr>\n",
       "    <tr>\n",
       "      <th>2210</th>\n",
       "      <td>40.000613</td>\n",
       "      <td>116.321628</td>\n",
       "      <td>0</td>\n",
       "      <td>347</td>\n",
       "      <td>39756.145463</td>\n",
       "      <td>2008-11-04</td>\n",
       "      <td>03:29:28</td>\n",
       "    </tr>\n",
       "    <tr>\n",
       "      <th>2211</th>\n",
       "      <td>40.000381</td>\n",
       "      <td>116.321699</td>\n",
       "      <td>0</td>\n",
       "      <td>348</td>\n",
       "      <td>39756.145521</td>\n",
       "      <td>2008-11-04</td>\n",
       "      <td>03:29:33</td>\n",
       "    </tr>\n",
       "    <tr>\n",
       "      <th>2212</th>\n",
       "      <td>40.000156</td>\n",
       "      <td>116.321858</td>\n",
       "      <td>0</td>\n",
       "      <td>346</td>\n",
       "      <td>39756.145579</td>\n",
       "      <td>2008-11-04</td>\n",
       "      <td>03:29:38</td>\n",
       "    </tr>\n",
       "    <tr>\n",
       "      <th>2213</th>\n",
       "      <td>39.999915</td>\n",
       "      <td>116.322019</td>\n",
       "      <td>0</td>\n",
       "      <td>345</td>\n",
       "      <td>39756.145637</td>\n",
       "      <td>2008-11-04</td>\n",
       "      <td>03:29:43</td>\n",
       "    </tr>\n",
       "    <tr>\n",
       "      <th>2214</th>\n",
       "      <td>39.999679</td>\n",
       "      <td>116.322247</td>\n",
       "      <td>0</td>\n",
       "      <td>352</td>\n",
       "      <td>39756.145694</td>\n",
       "      <td>2008-11-04</td>\n",
       "      <td>03:29:48</td>\n",
       "    </tr>\n",
       "    <tr>\n",
       "      <th>2215</th>\n",
       "      <td>39.999563</td>\n",
       "      <td>116.322342</td>\n",
       "      <td>0</td>\n",
       "      <td>349</td>\n",
       "      <td>39756.145752</td>\n",
       "      <td>2008-11-04</td>\n",
       "      <td>03:29:53</td>\n",
       "    </tr>\n",
       "    <tr>\n",
       "      <th>2216</th>\n",
       "      <td>39.999491</td>\n",
       "      <td>116.322544</td>\n",
       "      <td>0</td>\n",
       "      <td>340</td>\n",
       "      <td>39756.145810</td>\n",
       "      <td>2008-11-04</td>\n",
       "      <td>03:29:58</td>\n",
       "    </tr>\n",
       "    <tr>\n",
       "      <th>2217</th>\n",
       "      <td>39.999498</td>\n",
       "      <td>116.322822</td>\n",
       "      <td>0</td>\n",
       "      <td>345</td>\n",
       "      <td>39756.145868</td>\n",
       "      <td>2008-11-04</td>\n",
       "      <td>03:30:03</td>\n",
       "    </tr>\n",
       "    <tr>\n",
       "      <th>2218</th>\n",
       "      <td>39.999501</td>\n",
       "      <td>116.323066</td>\n",
       "      <td>0</td>\n",
       "      <td>352</td>\n",
       "      <td>39756.145926</td>\n",
       "      <td>2008-11-04</td>\n",
       "      <td>03:30:08</td>\n",
       "    </tr>\n",
       "    <tr>\n",
       "      <th>2219</th>\n",
       "      <td>39.999527</td>\n",
       "      <td>116.323270</td>\n",
       "      <td>0</td>\n",
       "      <td>351</td>\n",
       "      <td>39756.145984</td>\n",
       "      <td>2008-11-04</td>\n",
       "      <td>03:30:13</td>\n",
       "    </tr>\n",
       "    <tr>\n",
       "      <th>2220</th>\n",
       "      <td>39.999542</td>\n",
       "      <td>116.323423</td>\n",
       "      <td>0</td>\n",
       "      <td>361</td>\n",
       "      <td>39756.146042</td>\n",
       "      <td>2008-11-04</td>\n",
       "      <td>03:30:18</td>\n",
       "    </tr>\n",
       "    <tr>\n",
       "      <th>2221</th>\n",
       "      <td>39.999524</td>\n",
       "      <td>116.323597</td>\n",
       "      <td>0</td>\n",
       "      <td>370</td>\n",
       "      <td>39756.146100</td>\n",
       "      <td>2008-11-04</td>\n",
       "      <td>03:30:23</td>\n",
       "    </tr>\n",
       "    <tr>\n",
       "      <th>2222</th>\n",
       "      <td>39.999527</td>\n",
       "      <td>116.323793</td>\n",
       "      <td>0</td>\n",
       "      <td>371</td>\n",
       "      <td>39756.146157</td>\n",
       "      <td>2008-11-04</td>\n",
       "      <td>03:30:28</td>\n",
       "    </tr>\n",
       "    <tr>\n",
       "      <th>2223</th>\n",
       "      <td>39.999528</td>\n",
       "      <td>116.323980</td>\n",
       "      <td>0</td>\n",
       "      <td>368</td>\n",
       "      <td>39756.146215</td>\n",
       "      <td>2008-11-04</td>\n",
       "      <td>03:30:33</td>\n",
       "    </tr>\n",
       "    <tr>\n",
       "      <th>2224</th>\n",
       "      <td>39.999525</td>\n",
       "      <td>116.324193</td>\n",
       "      <td>0</td>\n",
       "      <td>373</td>\n",
       "      <td>39756.146273</td>\n",
       "      <td>2008-11-04</td>\n",
       "      <td>03:30:38</td>\n",
       "    </tr>\n",
       "    <tr>\n",
       "      <th>2225</th>\n",
       "      <td>39.999531</td>\n",
       "      <td>116.324445</td>\n",
       "      <td>0</td>\n",
       "      <td>355</td>\n",
       "      <td>39756.146331</td>\n",
       "      <td>2008-11-04</td>\n",
       "      <td>03:30:43</td>\n",
       "    </tr>\n",
       "    <tr>\n",
       "      <th>2226</th>\n",
       "      <td>39.999591</td>\n",
       "      <td>116.324650</td>\n",
       "      <td>0</td>\n",
       "      <td>337</td>\n",
       "      <td>39756.146389</td>\n",
       "      <td>2008-11-04</td>\n",
       "      <td>03:30:48</td>\n",
       "    </tr>\n",
       "    <tr>\n",
       "      <th>2227</th>\n",
       "      <td>39.999570</td>\n",
       "      <td>116.324729</td>\n",
       "      <td>0</td>\n",
       "      <td>321</td>\n",
       "      <td>39756.146447</td>\n",
       "      <td>2008-11-04</td>\n",
       "      <td>03:30:53</td>\n",
       "    </tr>\n",
       "    <tr>\n",
       "      <th>2228</th>\n",
       "      <td>39.999553</td>\n",
       "      <td>116.324740</td>\n",
       "      <td>0</td>\n",
       "      <td>320</td>\n",
       "      <td>39756.146505</td>\n",
       "      <td>2008-11-04</td>\n",
       "      <td>03:30:58</td>\n",
       "    </tr>\n",
       "    <tr>\n",
       "      <th>2229</th>\n",
       "      <td>39.999619</td>\n",
       "      <td>116.324769</td>\n",
       "      <td>0</td>\n",
       "      <td>318</td>\n",
       "      <td>39756.146562</td>\n",
       "      <td>2008-11-04</td>\n",
       "      <td>03:31:03</td>\n",
       "    </tr>\n",
       "    <tr>\n",
       "      <th>2230</th>\n",
       "      <td>39.999659</td>\n",
       "      <td>116.324747</td>\n",
       "      <td>0</td>\n",
       "      <td>317</td>\n",
       "      <td>39756.146620</td>\n",
       "      <td>2008-11-04</td>\n",
       "      <td>03:31:08</td>\n",
       "    </tr>\n",
       "  </tbody>\n",
       "</table>\n",
       "<p>2231 rows × 7 columns</p>\n",
       "</div>"
      ],
      "text/plain": [
       "              0           1  2    3             4           5         6\n",
       "0     39.996948  116.325747  0  492  39755.973530  2008-11-03  23:21:53\n",
       "1     39.996849  116.325763  0  491  39755.973588  2008-11-03  23:21:58\n",
       "2     39.994409  116.326968  0   23  39755.973646  2008-11-03  23:22:03\n",
       "3     39.995076  116.326629  0   70  39755.973704  2008-11-03  23:22:08\n",
       "4     39.995193  116.326572  0   75  39755.973762  2008-11-03  23:22:13\n",
       "5     39.995358  116.326480  0   94  39755.973819  2008-11-03  23:22:18\n",
       "6     39.995464  116.326425  0  110  39755.973877  2008-11-03  23:22:23\n",
       "7     39.995647  116.326402  0  133  39755.973935  2008-11-03  23:22:28\n",
       "8     39.995868  116.326379  0  158  39755.973993  2008-11-03  23:22:33\n",
       "9     39.996123  116.326359  0  186  39755.974051  2008-11-03  23:22:38\n",
       "10    39.996377  116.326410  0  220  39755.974109  2008-11-03  23:22:43\n",
       "11    39.996555  116.326393  0  265  39755.974167  2008-11-03  23:22:48\n",
       "12    39.996692  116.326337  0  297  39755.974225  2008-11-03  23:22:53\n",
       "13    39.996761  116.326232  0  263  39755.974282  2008-11-03  23:22:58\n",
       "14    39.997003  116.326244  0  259  39755.974340  2008-11-03  23:23:03\n",
       "15    39.997222  116.326237  0  270  39755.974398  2008-11-03  23:23:08\n",
       "16    39.997479  116.326218  0  285  39755.974456  2008-11-03  23:23:13\n",
       "17    39.997699  116.326260  0  298  39755.974514  2008-11-03  23:23:18\n",
       "18    39.997912  116.326315  0  315  39755.974572  2008-11-03  23:23:23\n",
       "19    39.998103  116.326331  0  327  39755.974630  2008-11-03  23:23:28\n",
       "20    39.998310  116.326313  0  338  39755.974687  2008-11-03  23:23:33\n",
       "21    39.998533  116.326294  0  355  39755.974745  2008-11-03  23:23:38\n",
       "22    39.998733  116.326314  0  374  39755.974803  2008-11-03  23:23:43\n",
       "23    39.998948  116.326337  0  403  39755.974861  2008-11-03  23:23:48\n",
       "24    39.999166  116.326329  0  437  39755.974919  2008-11-03  23:23:53\n",
       "25    39.999417  116.326330  0  458  39755.974977  2008-11-03  23:23:58\n",
       "26    39.999521  116.326333  0  424  39755.975035  2008-11-03  23:24:03\n",
       "27    39.999636  116.326287  0  387  39755.975093  2008-11-03  23:24:08\n",
       "28    39.999646  116.326202  0  354  39755.975150  2008-11-03  23:24:13\n",
       "29    39.999405  116.325983  0  314  39755.975208  2008-11-03  23:24:18\n",
       "...         ...         ... ..  ...           ...         ...       ...\n",
       "2201  40.002363  116.321089  0  300  39756.144942  2008-11-04  03:28:43\n",
       "2202  40.002207  116.321095  0  322  39756.145000  2008-11-04  03:28:48\n",
       "2203  40.002065  116.321106  0  323  39756.145058  2008-11-04  03:28:53\n",
       "2204  40.001897  116.321113  0  332  39756.145116  2008-11-04  03:28:58\n",
       "2205  40.001676  116.321166  0  334  39756.145174  2008-11-04  03:29:03\n",
       "2206  40.001476  116.321240  0  334  39756.145231  2008-11-04  03:29:08\n",
       "2207  40.001261  116.321348  0  337  39756.145289  2008-11-04  03:29:13\n",
       "2208  40.001074  116.321458  0  337  39756.145347  2008-11-04  03:29:18\n",
       "2209  40.000815  116.321600  0  343  39756.145405  2008-11-04  03:29:23\n",
       "2210  40.000613  116.321628  0  347  39756.145463  2008-11-04  03:29:28\n",
       "2211  40.000381  116.321699  0  348  39756.145521  2008-11-04  03:29:33\n",
       "2212  40.000156  116.321858  0  346  39756.145579  2008-11-04  03:29:38\n",
       "2213  39.999915  116.322019  0  345  39756.145637  2008-11-04  03:29:43\n",
       "2214  39.999679  116.322247  0  352  39756.145694  2008-11-04  03:29:48\n",
       "2215  39.999563  116.322342  0  349  39756.145752  2008-11-04  03:29:53\n",
       "2216  39.999491  116.322544  0  340  39756.145810  2008-11-04  03:29:58\n",
       "2217  39.999498  116.322822  0  345  39756.145868  2008-11-04  03:30:03\n",
       "2218  39.999501  116.323066  0  352  39756.145926  2008-11-04  03:30:08\n",
       "2219  39.999527  116.323270  0  351  39756.145984  2008-11-04  03:30:13\n",
       "2220  39.999542  116.323423  0  361  39756.146042  2008-11-04  03:30:18\n",
       "2221  39.999524  116.323597  0  370  39756.146100  2008-11-04  03:30:23\n",
       "2222  39.999527  116.323793  0  371  39756.146157  2008-11-04  03:30:28\n",
       "2223  39.999528  116.323980  0  368  39756.146215  2008-11-04  03:30:33\n",
       "2224  39.999525  116.324193  0  373  39756.146273  2008-11-04  03:30:38\n",
       "2225  39.999531  116.324445  0  355  39756.146331  2008-11-04  03:30:43\n",
       "2226  39.999591  116.324650  0  337  39756.146389  2008-11-04  03:30:48\n",
       "2227  39.999570  116.324729  0  321  39756.146447  2008-11-04  03:30:53\n",
       "2228  39.999553  116.324740  0  320  39756.146505  2008-11-04  03:30:58\n",
       "2229  39.999619  116.324769  0  318  39756.146562  2008-11-04  03:31:03\n",
       "2230  39.999659  116.324747  0  317  39756.146620  2008-11-04  03:31:08\n",
       "\n",
       "[2231 rows x 7 columns]"
      ]
     },
     "execution_count": 62,
     "metadata": {},
     "output_type": "execute_result"
    }
   ],
   "source": [
    "x"
   ]
  },
  {
   "cell_type": "code",
   "execution_count": null,
   "metadata": {
    "collapsed": true
   },
   "outputs": [],
   "source": []
  }
 ],
 "metadata": {
  "kernelspec": {
   "display_name": "Python 2",
   "language": "python",
   "name": "python2"
  },
  "language_info": {
   "codemirror_mode": {
    "name": "ipython",
    "version": 2
   },
   "file_extension": ".py",
   "mimetype": "text/x-python",
   "name": "python",
   "nbconvert_exporter": "python",
   "pygments_lexer": "ipython2",
   "version": "2.7.13"
  }
 },
 "nbformat": 4,
 "nbformat_minor": 2
}
