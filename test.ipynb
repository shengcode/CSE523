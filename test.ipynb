{
 "cells": [
  {
   "cell_type": "code",
   "execution_count": 5,
   "metadata": {
    "collapsed": true
   },
   "outputs": [],
   "source": [
    "import pandas as pd\n",
    "import numpy as np\n",
    "import geopandas as gpd\n",
    "import matplotlib.pyplot as plt"
   ]
  },
  {
   "cell_type": "code",
   "execution_count": 6,
   "metadata": {
    "collapsed": true
   },
   "outputs": [],
   "source": [
    "%matplotlib inline"
   ]
  },
  {
   "cell_type": "code",
   "execution_count": 2,
   "metadata": {
    "collapsed": false
   },
   "outputs": [
    {
     "name": "stdout",
     "output_type": "stream",
     "text": [
      "/home/me/Documents/cse523/Geolife Trajectories 1.3\n"
     ]
    }
   ],
   "source": [
    "cd Geolife\\ Trajectories\\ 1.3"
   ]
  },
  {
   "cell_type": "code",
   "execution_count": 3,
   "metadata": {
    "collapsed": true
   },
   "outputs": [],
   "source": [
    "x = pd.read_csv('Data/000/Trajectory/20081023025304.plt', skiprows=6, header=None)"
   ]
  },
  {
   "cell_type": "code",
   "execution_count": 14,
   "metadata": {
    "collapsed": false
   },
   "outputs": [
    {
     "data": {
      "text/html": [
       "<div>\n",
       "<table border=\"1\" class=\"dataframe\">\n",
       "  <thead>\n",
       "    <tr style=\"text-align: right;\">\n",
       "      <th></th>\n",
       "      <th>0</th>\n",
       "      <th>1</th>\n",
       "      <th>2</th>\n",
       "      <th>3</th>\n",
       "      <th>4</th>\n",
       "      <th>5</th>\n",
       "      <th>6</th>\n",
       "    </tr>\n",
       "  </thead>\n",
       "  <tbody>\n",
       "    <tr>\n",
       "      <th>0</th>\n",
       "      <td>39.984702</td>\n",
       "      <td>116.318417</td>\n",
       "      <td>0</td>\n",
       "      <td>492</td>\n",
       "      <td>39744.120185</td>\n",
       "      <td>2008-10-23</td>\n",
       "      <td>02:53:04</td>\n",
       "    </tr>\n",
       "    <tr>\n",
       "      <th>1</th>\n",
       "      <td>39.984683</td>\n",
       "      <td>116.318450</td>\n",
       "      <td>0</td>\n",
       "      <td>492</td>\n",
       "      <td>39744.120255</td>\n",
       "      <td>2008-10-23</td>\n",
       "      <td>02:53:10</td>\n",
       "    </tr>\n",
       "    <tr>\n",
       "      <th>2</th>\n",
       "      <td>39.984686</td>\n",
       "      <td>116.318417</td>\n",
       "      <td>0</td>\n",
       "      <td>492</td>\n",
       "      <td>39744.120313</td>\n",
       "      <td>2008-10-23</td>\n",
       "      <td>02:53:15</td>\n",
       "    </tr>\n",
       "    <tr>\n",
       "      <th>3</th>\n",
       "      <td>39.984688</td>\n",
       "      <td>116.318385</td>\n",
       "      <td>0</td>\n",
       "      <td>492</td>\n",
       "      <td>39744.120370</td>\n",
       "      <td>2008-10-23</td>\n",
       "      <td>02:53:20</td>\n",
       "    </tr>\n",
       "    <tr>\n",
       "      <th>4</th>\n",
       "      <td>39.984655</td>\n",
       "      <td>116.318263</td>\n",
       "      <td>0</td>\n",
       "      <td>492</td>\n",
       "      <td>39744.120428</td>\n",
       "      <td>2008-10-23</td>\n",
       "      <td>02:53:25</td>\n",
       "    </tr>\n",
       "  </tbody>\n",
       "</table>\n",
       "</div>"
      ],
      "text/plain": [
       "           0           1  2    3             4           5         6\n",
       "0  39.984702  116.318417  0  492  39744.120185  2008-10-23  02:53:04\n",
       "1  39.984683  116.318450  0  492  39744.120255  2008-10-23  02:53:10\n",
       "2  39.984686  116.318417  0  492  39744.120313  2008-10-23  02:53:15\n",
       "3  39.984688  116.318385  0  492  39744.120370  2008-10-23  02:53:20\n",
       "4  39.984655  116.318263  0  492  39744.120428  2008-10-23  02:53:25"
      ]
     },
     "execution_count": 14,
     "metadata": {},
     "output_type": "execute_result"
    }
   ],
   "source": [
    "x.head()"
   ]
  },
  {
   "cell_type": "code",
   "execution_count": 18,
   "metadata": {
    "collapsed": false
   },
   "outputs": [
    {
     "data": {
      "text/plain": [
       "1.5934291306047993e-05"
      ]
     },
     "execution_count": 18,
     "metadata": {},
     "output_type": "execute_result"
    }
   ],
   "source": [
    "point2dist(x.iloc[0, :2], (x.iloc[1, :2], x.iloc[2, :2]))"
   ]
  },
  {
   "cell_type": "code",
   "execution_count": 23,
   "metadata": {
    "collapsed": true
   },
   "outputs": [],
   "source": [
    "## distance functions\n",
    "def point2dist(point, line):\n",
    "    return np.linalg.norm(np.cross(point-line[0], line[1]-line[0]))/np.linalg.norm(line[1]-line[0])\n",
    "\n",
    "def vertial_distance(x, y):\n",
    "    dist_end1 = point2dist(x[0], y)\n",
    "    dist_end2 = point2dist(x[1], y)\n",
    "    return (dist_end1**2 + dist_end2**2)/(dist_end1+dist_end2)\n",
    "\n",
    "def parallel_distance(x, y):\n",
    "    return np.max(np.abs(x[0]-y[0]), np.abs(x[1]-y[1]))\n",
    "\n",
    "def angular_distance(x, y):\n",
    "    dist = np.cross(x[1]-x[0], y[1]-y[0])/np.linalg.norm(y[1]-y[0])\n",
    "    if dist < 0:\n",
    "        return np.linalg.norm(x[1]-x[0])\n",
    "    else:\n",
    "        return dist"
   ]
  },
  {
   "cell_type": "code",
   "execution_count": 25,
   "metadata": {
    "collapsed": false
   },
   "outputs": [],
   "source": [
    "# MDL cost\n",
    "def mdl(model, data):\n",
    "    # L(H) model cost\n",
    "    lh = np.norm(model[0]-model[1])\n",
    "    # L(D|H)\n",
    "    ldh = 0\n",
    "    for i in range(len(data)-1):\n",
    "        ldh = ldh + vertical_distance(model, (data[i], data[i+1]))+angular_distance(model, (data[i], data[i+1]))\n",
    "    return lh + ldh"
   ]
  },
  {
   "cell_type": "code",
   "execution_count": null,
   "metadata": {
    "collapsed": true
   },
   "outputs": [],
   "source": [
    "## MDL partition algorithm\n",
    "def mdl_partition(path):\n",
    "    partition_set = set(path[0])\n",
    "    start_index = 0\n",
    "    length = 1\n",
    "    while start_index+length < len(path):\n",
    "        curr_index = start_index + length\n",
    "        # MDL cost if curr_index is included as a characteristic point\n",
    "        mdlparcost=mdl((path[start_index], path[curr_index]), path[start_index:curr_index+1])\n",
    "        mdlnoparcost=mdl((path[start_index], path[len(path)-1]), path[start_index:curr_index+1])\n",
    "        if mdlparcost > mdlnoparcost:\n",
    "            "
   ]
  },
  {
   "cell_type": "code",
   "execution_count": 7,
   "metadata": {
    "collapsed": false
   },
   "outputs": [
    {
     "data": {
      "text/plain": [
       "[<matplotlib.lines.Line2D at 0x7f0dd0370e10>]"
      ]
     },
     "execution_count": 7,
     "metadata": {},
     "output_type": "execute_result"
    },
    {
     "data": {
      "image/png": "[encoded data removed]",
      "text/plain": [
       "<matplotlib.figure.Figure at 0x7f0d8ddc7cd0>"
      ]
     },
     "metadata": {},
     "output_type": "display_data"
    }
   ],
   "source": [
    "plt.plot(x[0], x[1])"
   ]
  },
  {
   "cell_type": "code",
   "execution_count": null,
   "metadata": {
    "collapsed": true
   },
   "outputs": [],
   "source": []
  }
 ],
 "metadata": {
  "kernelspec": {
   "display_name": "Python 2",
   "language": "python",
   "name": "python2"
  },
  "language_info": {
   "codemirror_mode": {
    "name": "ipython",
    "version": 2
   },
   "file_extension": ".py",
   "mimetype": "text/x-python",
   "name": "python",
   "nbconvert_exporter": "python",
   "pygments_lexer": "ipython2",
   "version": "2.7.13"
  }
 },
 "nbformat": 4,
 "nbformat_minor": 2
}
