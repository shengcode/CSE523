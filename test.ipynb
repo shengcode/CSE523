{
 "cells": [
  {
   "cell_type": "code",
   "execution_count": 5,
   "metadata": {
    "collapsed": true
   },
   "outputs": [],
   "source": [
    "import pandas as pd\n",
    "import numpy as np\n",
    "import geopandas as gpd\n",
    "import matplotlib.pyplot as plt"
   ]
  },
  {
   "cell_type": "code",
   "execution_count": 6,
   "metadata": {
    "collapsed": true
   },
   "outputs": [],
   "source": [
    "%matplotlib inline\n",
    "np.seterr(divide='raise',invalid='raise')"
   ]
  },
  {
   "cell_type": "code",
   "execution_count": 2,
   "metadata": {
    "collapsed": false
   },
   "outputs": [
    {
     "name": "stdout",
     "output_type": "stream",
     "text": [
      "/home/me/Documents/cse523/Geolife Trajectories 1.3\n"
     ]
    }
   ],
   "source": [
    "cd Geolife\\ Trajectories\\ 1.3"
   ]
  },
  {
   "cell_type": "code",
   "execution_count": 3,
   "metadata": {
    "collapsed": true
   },
   "outputs": [],
   "source": [
    "x = pd.read_csv('Data/000/Trajectory/20081023025304.plt', skiprows=6, header=None)"
   ]
  },
  {
   "cell_type": "code",
   "execution_count": 14,
   "metadata": {
    "collapsed": false
   },
   "outputs": [
    {
     "data": {
      "text/html": [
       "<div>\n",
       "<table border=\"1\" class=\"dataframe\">\n",
       "  <thead>\n",
       "    <tr style=\"text-align: right;\">\n",
       "      <th></th>\n",
       "      <th>0</th>\n",
       "      <th>1</th>\n",
       "      <th>2</th>\n",
       "      <th>3</th>\n",
       "      <th>4</th>\n",
       "      <th>5</th>\n",
       "      <th>6</th>\n",
       "    </tr>\n",
       "  </thead>\n",
       "  <tbody>\n",
       "    <tr>\n",
       "      <th>0</th>\n",
       "      <td>39.984702</td>\n",
       "      <td>116.318417</td>\n",
       "      <td>0</td>\n",
       "      <td>492</td>\n",
       "      <td>39744.120185</td>\n",
       "      <td>2008-10-23</td>\n",
       "      <td>02:53:04</td>\n",
       "    </tr>\n",
       "    <tr>\n",
       "      <th>1</th>\n",
       "      <td>39.984683</td>\n",
       "      <td>116.318450</td>\n",
       "      <td>0</td>\n",
       "      <td>492</td>\n",
       "      <td>39744.120255</td>\n",
       "      <td>2008-10-23</td>\n",
       "      <td>02:53:10</td>\n",
       "    </tr>\n",
       "    <tr>\n",
       "      <th>2</th>\n",
       "      <td>39.984686</td>\n",
       "      <td>116.318417</td>\n",
       "      <td>0</td>\n",
       "      <td>492</td>\n",
       "      <td>39744.120313</td>\n",
       "      <td>2008-10-23</td>\n",
       "      <td>02:53:15</td>\n",
       "    </tr>\n",
       "    <tr>\n",
       "      <th>3</th>\n",
       "      <td>39.984688</td>\n",
       "      <td>116.318385</td>\n",
       "      <td>0</td>\n",
       "      <td>492</td>\n",
       "      <td>39744.120370</td>\n",
       "      <td>2008-10-23</td>\n",
       "      <td>02:53:20</td>\n",
       "    </tr>\n",
       "    <tr>\n",
       "      <th>4</th>\n",
       "      <td>39.984655</td>\n",
       "      <td>116.318263</td>\n",
       "      <td>0</td>\n",
       "      <td>492</td>\n",
       "      <td>39744.120428</td>\n",
       "      <td>2008-10-23</td>\n",
       "      <td>02:53:25</td>\n",
       "    </tr>\n",
       "  </tbody>\n",
       "</table>\n",
       "</div>"
      ],
      "text/plain": [
       "           0           1  2    3             4           5         6\n",
       "0  39.984702  116.318417  0  492  39744.120185  2008-10-23  02:53:04\n",
       "1  39.984683  116.318450  0  492  39744.120255  2008-10-23  02:53:10\n",
       "2  39.984686  116.318417  0  492  39744.120313  2008-10-23  02:53:15\n",
       "3  39.984688  116.318385  0  492  39744.120370  2008-10-23  02:53:20\n",
       "4  39.984655  116.318263  0  492  39744.120428  2008-10-23  02:53:25"
      ]
     },
     "execution_count": 14,
     "metadata": {},
     "output_type": "execute_result"
    }
   ],
   "source": [
    "x.head()"
   ]
  },
  {
   "cell_type": "code",
   "execution_count": null,
   "metadata": {
    "collapsed": true
   },
   "outputs": [],
   "source": [
    "# merge points with same location\n"
   ]
  },
  {
   "cell_type": "code",
   "execution_count": 96,
   "metadata": {
    "collapsed": true
   },
   "outputs": [],
   "source": [
    "## distance functions\n",
    "def point2dist(point, line):\n",
    "    linelen = np.linalg.norm(line[1]-line[0])\n",
    "    if linelen==0:\n",
    "        return 0\n",
    "    else:\n",
    "        return np.linalg.norm(np.cross(point-line[0], line[1]-line[0]))/linelen\n",
    "\n",
    "def vertical_distance(x, y):\n",
    "    dist_end1 = point2dist(x[0], y)\n",
    "    dist_end2 = point2dist(x[1], y)\n",
    "    dist = dist_end1+dist_end2\n",
    "    if dist == 0:\n",
    "        return 0\n",
    "    else:\n",
    "        return (dist_end1**2 + dist_end2**2)/dist\n",
    "\n",
    "def parallel_distance(x, y):\n",
    "    return np.max(np.abs(x[0]-y[0]), np.abs(x[1]-y[1]))\n",
    "\n",
    "def angular_distance(x, y):\n",
    "    ylen = np.linalg.norm(y[1]-y[0])\n",
    "    \n",
    "    dist = 0 if ylen==0 else np.cross(x[1]-x[0], y[1]-y[0])/ylen\n",
    "    if dist < 0:\n",
    "        return np.linalg.norm(x[1]-x[0])\n",
    "    else:\n",
    "        return dist"
   ]
  },
  {
   "cell_type": "code",
   "execution_count": 116,
   "metadata": {
    "collapsed": false
   },
   "outputs": [],
   "source": [
    "# MDL cost\n",
    "def mdl(data, model_indexes):\n",
    "    \"\"\"\n",
    "    calculate mdl cost\n",
    "    data the raw data\n",
    "    model_indexes indexes into the raw data, data points choose by indexes are used to represent the raw data\n",
    "    \"\"\"\n",
    "    # L(H) model cost could have multiple segments\n",
    "    lh = 0\n",
    "    for i in range(len(model_indexes)-1):\n",
    "        dist = np.linalg.norm(data[model_indexes[i]]-data[model_indexes[i+1]])\n",
    "        lh = lh + np.log2(dist) if dist!=0 else 0\n",
    "    # L(D|H)\n",
    "    ldh = 0\n",
    "    # the index into the model_indexes, NOT into raw data\n",
    "    model_index = 0\n",
    "    for i in range(len(data)-1):\n",
    "        if i > model_indexes[model_index+1]:\n",
    "            model_index = model_index + 1\n",
    "\n",
    "        model_i_start = model_indexes[model_index]\n",
    "        model_i_end = model_indexes[model_index+1]\n",
    "        \n",
    "        if i!=model_i_start or i+1!=model_i_end:\n",
    "            dist = vertical_distance((data[model_i_start], data[model_i_end]),(data[i], data[i+1]))* \\\n",
    "                angular_distance((data[model_i_start], data[model_i_end]), (data[i], data[i+1]))\n",
    "            ldh = ldh + np.log2(dist) if dist!=0 else 0\n",
    "    return lh + ldh"
   ]
  },
  {
   "cell_type": "code",
   "execution_count": 117,
   "metadata": {
    "collapsed": true
   },
   "outputs": [],
   "source": [
    "## MDL partition algorithm\n",
    "def mdl_partition(path):\n",
    "    partition_set = [path[0]]\n",
    "    start_index = 0\n",
    "    length = 1\n",
    "    while start_index + length < len(path):\n",
    "        curr_index = start_index + length\n",
    "        # MDL cost if curr_index is included as a characteristic point\n",
    "        mdlparcost=mdl(path[start_index:curr_index+1], (0, curr_index-start_index))\n",
    "        # no partition, segmented line\n",
    "        mdlnoparcost=mdl(path[start_index:curr_index+1], np.arange(curr_index-start_index+1))\n",
    "        if mdlparcost > mdlnoparcost:\n",
    "            partition_set = partition_set + [path[curr_index-1]]\n",
    "            start_index = curr_index-1\n",
    "            length = 1\n",
    "        else:\n",
    "            length = length + 1\n",
    "    partition_set = partition_set + [path[len(path)-1]]\n",
    "    return partition_set"
   ]
  },
  {
   "cell_type": "code",
   "execution_count": 119,
   "metadata": {
    "collapsed": false
   },
   "outputs": [],
   "source": [
    "partitions=(np.array(mdl_partition(x[[0,1]].values[:400])))"
   ]
  },
  {
   "cell_type": "code",
   "execution_count": 120,
   "metadata": {
    "collapsed": false
   },
   "outputs": [
    {
     "data": {
      "text/plain": [
       "[<matplotlib.lines.Line2D at 0x7f0d8ccfb810>]"
      ]
     },
     "execution_count": 120,
     "metadata": {},
     "output_type": "execute_result"
    },
    {
     "data": {
      "image/png": "[encoded data removed]",
      "text/plain": [
       "<matplotlib.figure.Figure at 0x7f0d8d04e950>"
      ]
     },
     "metadata": {},
     "output_type": "display_data"
    }
   ],
   "source": [
    "plt.plot(x[[0,1]][:400][0], x[[0,1]][:400][1])\n",
    "\n",
    "plt.plot(partitions[:, 0], partitions[:, 1])"
   ]
  },
  {
   "cell_type": "code",
   "execution_count": 121,
   "metadata": {
    "collapsed": false
   },
   "outputs": [
    {
     "data": {
      "text/plain": [
       "[<matplotlib.lines.Line2D at 0x7f0d8cbaa510>]"
      ]
     },
     "execution_count": 121,
     "metadata": {},
     "output_type": "execute_result"
    },
    {
     "data": {
      "image/png": "[encoded data removed]",
      "text/plain": [
       "<matplotlib.figure.Figure at 0x7f0d8cd02290>"
      ]
     },
     "metadata": {},
     "output_type": "display_data"
    }
   ],
   "source": [
    "plt.plot(partitions[:, 0], partitions[:, 1])"
   ]
  },
  {
   "cell_type": "code",
   "execution_count": 122,
   "metadata": {
    "collapsed": false
   },
   "outputs": [
    {
     "data": {
      "text/plain": [
       "[<matplotlib.lines.Line2D at 0x7f0d8cad8810>]"
      ]
     },
     "execution_count": 122,
     "metadata": {},
     "output_type": "execute_result"
    },
    {
     "data": {
      "image/png": "[encoded data removed]",
      "text/plain": [
       "<matplotlib.figure.Figure at 0x7f0d8cdffd10>"
      ]
     },
     "metadata": {},
     "output_type": "display_data"
    }
   ],
   "source": [
    "plt.plot(x[[0,1]][:400][0], x[[0,1]][:400][1])"
   ]
  },
  {
   "cell_type": "code",
   "execution_count": null,
   "metadata": {
    "collapsed": true
   },
   "outputs": [],
   "source": []
  }
 ],
 "metadata": {
  "kernelspec": {
   "display_name": "Python 2",
   "language": "python",
   "name": "python2"
  },
  "language_info": {
   "codemirror_mode": {
    "name": "ipython",
    "version": 2
   },
   "file_extension": ".py",
   "mimetype": "text/x-python",
   "name": "python",
   "nbconvert_exporter": "python",
   "pygments_lexer": "ipython2",
   "version": "2.7.13"
  }
 },
 "nbformat": 4,
 "nbformat_minor": 2
}
