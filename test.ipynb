{
 "cells": [
  {
   "cell_type": "code",
   "execution_count": 1,
   "metadata": {
    "collapsed": true
   },
   "outputs": [],
   "source": [
    "import pandas as pd\n",
    "import numpy as np\n",
    "#import geopandas as gpd\n",
    "import matplotlib.pyplot as plt\n",
    "from sklearn.neighbors import DistanceMetric"
   ]
  },
  {
   "cell_type": "code",
   "execution_count": 2,
   "metadata": {
    "collapsed": false
   },
   "outputs": [
    {
     "data": {
      "text/plain": [
       "{'divide': 'warn', 'invalid': 'warn', 'over': 'warn', 'under': 'ignore'}"
      ]
     },
     "execution_count": 2,
     "metadata": {},
     "output_type": "execute_result"
    }
   ],
   "source": [
    "%matplotlib inline\n",
    "np.seterr(divide='raise',invalid='raise')"
   ]
  },
  {
   "cell_type": "code",
   "execution_count": 3,
   "metadata": {
    "collapsed": false
   },
   "outputs": [
    {
     "name": "stdout",
     "output_type": "stream",
     "text": [
      "/home/me/Documents/cse523/Geolife Trajectories 1.3\n"
     ]
    }
   ],
   "source": [
    "cd Geolife\\ Trajectories\\ 1.3"
   ]
  },
  {
   "cell_type": "code",
   "execution_count": 4,
   "metadata": {
    "collapsed": true
   },
   "outputs": [],
   "source": [
    "x = pd.read_csv('Data/000/Trajectory/20081103232153.plt', skiprows=6, header=None)"
   ]
  },
  {
   "cell_type": "code",
   "execution_count": 5,
   "metadata": {
    "collapsed": false
   },
   "outputs": [
    {
     "data": {
      "text/html": [
       "<div>\n",
       "<table border=\"1\" class=\"dataframe\">\n",
       "  <thead>\n",
       "    <tr style=\"text-align: right;\">\n",
       "      <th></th>\n",
       "      <th>0</th>\n",
       "      <th>1</th>\n",
       "      <th>2</th>\n",
       "      <th>3</th>\n",
       "      <th>4</th>\n",
       "      <th>5</th>\n",
       "      <th>6</th>\n",
       "    </tr>\n",
       "  </thead>\n",
       "  <tbody>\n",
       "    <tr>\n",
       "      <th>0</th>\n",
       "      <td>39.996948</td>\n",
       "      <td>116.325747</td>\n",
       "      <td>0</td>\n",
       "      <td>492</td>\n",
       "      <td>39755.973530</td>\n",
       "      <td>2008-11-03</td>\n",
       "      <td>23:21:53</td>\n",
       "    </tr>\n",
       "    <tr>\n",
       "      <th>1</th>\n",
       "      <td>39.996849</td>\n",
       "      <td>116.325763</td>\n",
       "      <td>0</td>\n",
       "      <td>491</td>\n",
       "      <td>39755.973588</td>\n",
       "      <td>2008-11-03</td>\n",
       "      <td>23:21:58</td>\n",
       "    </tr>\n",
       "    <tr>\n",
       "      <th>2</th>\n",
       "      <td>39.994409</td>\n",
       "      <td>116.326968</td>\n",
       "      <td>0</td>\n",
       "      <td>23</td>\n",
       "      <td>39755.973646</td>\n",
       "      <td>2008-11-03</td>\n",
       "      <td>23:22:03</td>\n",
       "    </tr>\n",
       "    <tr>\n",
       "      <th>3</th>\n",
       "      <td>39.995076</td>\n",
       "      <td>116.326629</td>\n",
       "      <td>0</td>\n",
       "      <td>70</td>\n",
       "      <td>39755.973704</td>\n",
       "      <td>2008-11-03</td>\n",
       "      <td>23:22:08</td>\n",
       "    </tr>\n",
       "    <tr>\n",
       "      <th>4</th>\n",
       "      <td>39.995193</td>\n",
       "      <td>116.326572</td>\n",
       "      <td>0</td>\n",
       "      <td>75</td>\n",
       "      <td>39755.973762</td>\n",
       "      <td>2008-11-03</td>\n",
       "      <td>23:22:13</td>\n",
       "    </tr>\n",
       "  </tbody>\n",
       "</table>\n",
       "</div>"
      ],
      "text/plain": [
       "           0           1  2    3             4           5         6\n",
       "0  39.996948  116.325747  0  492  39755.973530  2008-11-03  23:21:53\n",
       "1  39.996849  116.325763  0  491  39755.973588  2008-11-03  23:21:58\n",
       "2  39.994409  116.326968  0   23  39755.973646  2008-11-03  23:22:03\n",
       "3  39.995076  116.326629  0   70  39755.973704  2008-11-03  23:22:08\n",
       "4  39.995193  116.326572  0   75  39755.973762  2008-11-03  23:22:13"
      ]
     },
     "execution_count": 5,
     "metadata": {},
     "output_type": "execute_result"
    }
   ],
   "source": [
    "x.head()"
   ]
  },
  {
   "cell_type": "code",
   "execution_count": 6,
   "metadata": {
    "collapsed": false
   },
   "outputs": [
    {
     "data": {
      "text/plain": [
       "(2231, 7)"
      ]
     },
     "execution_count": 6,
     "metadata": {},
     "output_type": "execute_result"
    }
   ],
   "source": [
    "x.shape"
   ]
  },
  {
   "cell_type": "code",
   "execution_count": 17,
   "metadata": {
    "collapsed": true
   },
   "outputs": [],
   "source": [
    "## distance functions\n",
    "def point2dist(point, line):\n",
    "    linelen = np.linalg.norm(line[1]-line[0])\n",
    "    if linelen==0:\n",
    "        return 0\n",
    "    else:\n",
    "        return np.linalg.norm(np.cross(point-line[0], line[1]-line[0]))/linelen\n",
    "\n",
    "def vertical_distance(x, y):\n",
    "    dist_end1 = point2dist(x[0], y)\n",
    "    dist_end2 = point2dist(x[1], y)\n",
    "    dist = dist_end1+dist_end2\n",
    "    if dist == 0:\n",
    "        return 0\n",
    "    else:\n",
    "        return (dist_end1**2 + dist_end2**2)/dist\n",
    "\n",
    "def parallel_distance(x, y):\n",
    "    return np.min(np.abs(x[0]-y[0]), np.abs(x[1]-y[1]))\n",
    "\n",
    "def angular_distance(x, y):\n",
    "    ylen = np.linalg.norm(y[1]-y[0])\n",
    "    \n",
    "    dist = np.dot(x[1]-x[0], y[1]-y[0])\n",
    "    if dist < 0:\n",
    "        return np.linalg.norm(x[1]-x[0])\n",
    "    else:\n",
    "        return 0 if ylen==0 else np.abs(np.cross(x[1]-x[0], y[1]-y[0]))/ylen\n",
    "    \n",
    "def line_distance(x, y):\n",
    "    return vertical_distance(x, y)+parallel_distance(x, y)+angular_distance(x, y)\n"
   ]
  },
  {
   "cell_type": "code",
   "execution_count": 8,
   "metadata": {
    "collapsed": false
   },
   "outputs": [],
   "source": [
    "# MDL cost\n",
    "def mdl(data, model_indexes):\n",
    "    \"\"\"\n",
    "    calculate mdl cost\n",
    "    data the raw data\n",
    "    model_indexes indexes into the raw data, data points choose by indexes are used to represent the raw data\n",
    "    \"\"\"\n",
    "    # L(H) model cost could have multiple segments\n",
    "    lh = 0\n",
    "    for i in range(len(model_indexes)-1):\n",
    "        dist = np.linalg.norm(data[model_indexes[i]]-data[model_indexes[i+1]])\n",
    "        lh = lh + np.log2(dist) if dist!=0 else 0\n",
    "    # L(D|H)\n",
    "    ldh = 0\n",
    "    # the index into the model_indexes, NOT into raw data\n",
    "    model_index = 0\n",
    "    for i in range(len(data)-1):\n",
    "        if i > model_indexes[model_index+1]:\n",
    "            model_index = model_index + 1\n",
    "\n",
    "        model_i_start = model_indexes[model_index]\n",
    "        model_i_end = model_indexes[model_index+1]\n",
    "        \n",
    "        if i!=model_i_start or i+1!=model_i_end:\n",
    "            dist = vertical_distance((data[model_i_start], data[model_i_end]),(data[i], data[i+1]))* \\\n",
    "                angular_distance((data[model_i_start], data[model_i_end]), (data[i], data[i+1]))\n",
    "            ldh = ldh + np.log2(dist) if dist!=0 else 0\n",
    "    return lh + ldh"
   ]
  },
  {
   "cell_type": "code",
   "execution_count": 9,
   "metadata": {
    "collapsed": true
   },
   "outputs": [],
   "source": [
    "## MDL partition algorithm\n",
    "def mdl_partition(path):\n",
    "    partition_set = [path[0]]\n",
    "    start_index = 0\n",
    "    length = 1\n",
    "    while start_index + length < len(path):\n",
    "        curr_index = start_index + length\n",
    "        # MDL cost if curr_index is included as a characteristic point\n",
    "        mdlparcost=mdl(path[start_index:curr_index+1], (0, curr_index-start_index))\n",
    "        # no partition, segmented line\n",
    "        mdlnoparcost=mdl(path[start_index:curr_index+1], np.arange(curr_index-start_index+1))\n",
    "        if mdlparcost > mdlnoparcost:\n",
    "            partition_set = partition_set + [path[curr_index-1]]\n",
    "            start_index = curr_index-1\n",
    "            length = 1\n",
    "        else:\n",
    "            length = length + 1\n",
    "    partition_set = partition_set + [path[len(path)-1]]\n",
    "    return partition_set"
   ]
  },
  {
   "cell_type": "code",
   "execution_count": 18,
   "metadata": {
    "collapsed": false
   },
   "outputs": [],
   "source": [
    "partitions=(np.array(mdl_partition(x[[0,1]].values)))"
   ]
  },
  {
   "cell_type": "code",
   "execution_count": 21,
   "metadata": {
    "collapsed": false
   },
   "outputs": [
    {
     "data": {
      "text/plain": [
       "(877, 2)"
      ]
     },
     "execution_count": 21,
     "metadata": {},
     "output_type": "execute_result"
    }
   ],
   "source": [
    "partitions.shape"
   ]
  },
  {
   "cell_type": "code",
   "execution_count": 19,
   "metadata": {
    "collapsed": false
   },
   "outputs": [
    {
     "data": {
      "text/plain": [
       "[<matplotlib.lines.Line2D at 0x7f9744527790>]"
      ]
     },
     "execution_count": 19,
     "metadata": {},
     "output_type": "execute_result"
    },
    {
     "data": {
      "image/png": "[encoded data removed]",
      "text/plain": [
       "<matplotlib.figure.Figure at 0x7f9744527f90>"
      ]
     },
     "metadata": {},
     "output_type": "display_data"
    }
   ],
   "source": [
    "plt.plot(x[0], x[1])\n",
    "\n",
    "plt.plot(partitions[:, 0], partitions[:, 1])"
   ]
  },
  {
   "cell_type": "code",
   "execution_count": 20,
   "metadata": {
    "collapsed": false
   },
   "outputs": [
    {
     "data": {
      "text/plain": [
       "[<matplotlib.lines.Line2D at 0x7f9743f11510>]"
      ]
     },
     "execution_count": 20,
     "metadata": {},
     "output_type": "execute_result"
    },
    {
     "data": {
      "image/png": "[encoded data removed]",
      "text/plain": [
       "<matplotlib.figure.Figure at 0x7f9744527710>"
      ]
     },
     "metadata": {},
     "output_type": "display_data"
    }
   ],
   "source": [
    "plt.plot(partitions[:, 0], partitions[:, 1])"
   ]
  },
  {
   "cell_type": "code",
   "execution_count": 20,
   "metadata": {
    "collapsed": false
   },
   "outputs": [
    {
     "data": {
      "text/plain": [
       "[<matplotlib.lines.Line2D at 0x7fb96b409850>]"
      ]
     },
     "execution_count": 20,
     "metadata": {},
     "output_type": "execute_result"
    },
    {
     "data": {
      "image/png": "[encoded data removed]",
      "text/plain": [
       "<matplotlib.figure.Figure at 0x7fb96b4e7b90>"
      ]
     },
     "metadata": {},
     "output_type": "display_data"
    }
   ],
   "source": [
    "plt.plot(x[0], x[1])"
   ]
  },
  {
   "cell_type": "code",
   "execution_count": 23,
   "metadata": {
    "collapsed": false
   },
   "outputs": [],
   "source": [
    "segment_dist=np.zeros(len(partitions)-1)\n",
    "for i in np.arange(len(partitions)-1):\n",
    "    segment_dist[i] = np.linalg.norm(partitions[i] - partitions[i+1])"
   ]
  },
  {
   "cell_type": "code",
   "execution_count": 25,
   "metadata": {
    "collapsed": false
   },
   "outputs": [
    {
     "data": {
      "text/plain": [
       "(array([806,  94,  15,   2,   0,   0,   0,   0,   0,   1]),\n",
       " array([  1.41421356e-06,   2.83006035e-04,   5.64597856e-04,\n",
       "          8.46189677e-04,   1.12778150e-03,   1.40937332e-03,\n",
       "          1.69096514e-03,   1.97255696e-03,   2.25414878e-03,\n",
       "          2.53574060e-03,   2.81733243e-03]))"
      ]
     },
     "execution_count": 25,
     "metadata": {},
     "output_type": "execute_result"
    }
   ],
   "source": [
    "np.histogram(segment_dist)"
   ]
  },
  {
   "cell_type": "code",
   "execution_count": 29,
   "metadata": {
    "collapsed": false,
    "scrolled": true
   },
   "outputs": [
    {
     "data": {
      "text/plain": [
       "(array([ 208.,  220.,  203.,  124.,   51.,   31.,   18.,   17.,   20.,\n",
       "           8.,    7.,    3.,    4.,    0.,    1.,    1.,    0.,    0.,\n",
       "           1.,    0.,    0.,    0.,    0.,    0.,    0.,    0.,    0.,\n",
       "           0.,    0.,    0.,    0.,    0.,    0.,    0.,    0.,    0.,\n",
       "           0.,    0.,    0.,    0.,    0.,    0.,    0.,    0.,    0.,\n",
       "           0.,    0.,    0.,    0.,    1.]),\n",
       " array([  1.41421356e-06,   5.77325778e-05,   1.14050942e-04,\n",
       "          1.70369306e-04,   2.26687671e-04,   2.83006035e-04,\n",
       "          3.39324399e-04,   3.95642763e-04,   4.51961128e-04,\n",
       "          5.08279492e-04,   5.64597856e-04,   6.20916220e-04,\n",
       "          6.77234585e-04,   7.33552949e-04,   7.89871313e-04,\n",
       "          8.46189677e-04,   9.02508042e-04,   9.58826406e-04,\n",
       "          1.01514477e-03,   1.07146313e-03,   1.12778150e-03,\n",
       "          1.18409986e-03,   1.24041823e-03,   1.29673659e-03,\n",
       "          1.35305496e-03,   1.40937332e-03,   1.46569168e-03,\n",
       "          1.52201005e-03,   1.57832841e-03,   1.63464678e-03,\n",
       "          1.69096514e-03,   1.74728351e-03,   1.80360187e-03,\n",
       "          1.85992023e-03,   1.91623860e-03,   1.97255696e-03,\n",
       "          2.02887533e-03,   2.08519369e-03,   2.14151206e-03,\n",
       "          2.19783042e-03,   2.25414878e-03,   2.31046715e-03,\n",
       "          2.36678551e-03,   2.42310388e-03,   2.47942224e-03,\n",
       "          2.53574060e-03,   2.59205897e-03,   2.64837733e-03,\n",
       "          2.70469570e-03,   2.76101406e-03,   2.81733243e-03]),\n",
       " <a list of 50 Patch objects>)"
      ]
     },
     "execution_count": 29,
     "metadata": {},
     "output_type": "execute_result"
    },
    {
     "data": {
      "image/png": "[encoded data removed]",
      "text/plain": [
       "<matplotlib.figure.Figure at 0x7fb96b0a9150>"
      ]
     },
     "metadata": {},
     "output_type": "display_data"
    }
   ],
   "source": [
    "plt.hist(segment_dist, bins=50)"
   ]
  },
  {
   "cell_type": "code",
   "execution_count": null,
   "metadata": {
    "collapsed": true
   },
   "outputs": [],
   "source": [
    "def segment_clustering(segments, eps, minlines):\n",
    "    \"\"\"\n",
    "    cluster line segment\n",
    "    segments: line segments to be clustered\n",
    "    eps: eps-neighbour\n",
    "    minlines: threshold, mimimum number of lines\n",
    "    \"\"\""
   ]
  },
  {
   "cell_type": "code",
   "execution_count": 8,
   "metadata": {
    "collapsed": false
   },
   "outputs": [],
   "source": [
    "segment_type=np.dtype([('x1','f4'),('y1','f4'),('x2','f4'),('y2','f4'),('pathid','i8'),('clusterid','i8')])"
   ]
  },
  {
   "cell_type": "code",
   "execution_count": 10,
   "metadata": {
    "collapsed": false
   },
   "outputs": [],
   "source": [
    "xx = np.zeros(100,dtype=segment_type)"
   ]
  },
  {
   "cell_type": "code",
   "execution_count": 33,
   "metadata": {
    "collapsed": false
   },
   "outputs": [],
   "source": [
    "def segment_line_dist(x, y):\n",
    "    return line_distance((np.array([x['x1'],x['y1']]), np.array([x['x2'],x['y2']])),\n",
    "                         (np.array([y['x1'],y['y1']]), np.array([y['x2'],y['y2']])))"
   ]
  },
  {
   "cell_type": "code",
   "execution_count": 32,
   "metadata": {
    "collapsed": false
   },
   "outputs": [
    {
     "data": {
      "text/plain": [
       "array([ 0.,  0.], dtype=float32)"
      ]
     },
     "execution_count": 32,
     "metadata": {},
     "output_type": "execute_result"
    }
   ],
   "source": [
    "np.array([xx[0]['x1'],xx[0]['y1']])"
   ]
  },
  {
   "cell_type": "code",
   "execution_count": null,
   "metadata": {
    "collapsed": true
   },
   "outputs": [],
   "source": []
  }
 ],
 "metadata": {
  "kernelspec": {
   "display_name": "Python 2",
   "language": "python",
   "name": "python2"
  },
  "language_info": {
   "codemirror_mode": {
    "name": "ipython",
    "version": 2
   },
   "file_extension": ".py",
   "mimetype": "text/x-python",
   "name": "python",
   "nbconvert_exporter": "python",
   "pygments_lexer": "ipython2",
   "version": "2.7.13"
  }
 },
 "nbformat": 4,
 "nbformat_minor": 2
}
