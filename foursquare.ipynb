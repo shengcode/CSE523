{
 "cells": [
  {
   "cell_type": "code",
   "execution_count": 2,
   "metadata": {
    "collapsed": false
   },
   "outputs": [
    {
     "name": "stderr",
     "output_type": "stream",
     "text": [
      "Using numpy backend.\n"
     ]
    }
   ],
   "source": [
    "import pandas as pd\n",
    "import numpy as np\n",
    "#import geopandas as gpd\n",
    "import matplotlib.pyplot as plt\n",
    "import pdb\n",
    "import os\n",
    "import sqlalchemy\n",
    "from matplotlib import collections  as mc\n",
    "from sklearn.cluster import *\n",
    "from sklearn.neighbors import *\n",
    "import scipy.stats as stats\n",
    "import tensorly as tl\n",
    "from tensorly.decomposition import parafac, tucker, non_negative_parafac, non_negative_tucker"
   ]
  },
  {
   "cell_type": "code",
   "execution_count": 3,
   "metadata": {
    "collapsed": false
   },
   "outputs": [
    {
     "name": "stderr",
     "output_type": "stream",
     "text": [
      "Using mxnet backend.\n"
     ]
    }
   ],
   "source": [
    "tl.set_backend(\"mxnet\")"
   ]
  },
  {
   "cell_type": "code",
   "execution_count": 4,
   "metadata": {
    "collapsed": false
   },
   "outputs": [
    {
     "data": {
      "text/plain": [
       "{'divide': 'warn', 'invalid': 'warn', 'over': 'warn', 'under': 'ignore'}"
      ]
     },
     "execution_count": 4,
     "metadata": {},
     "output_type": "execute_result"
    }
   ],
   "source": [
    "%matplotlib inline\n",
    "np.seterr(divide='raise',invalid='ignore')"
   ]
  },
  {
   "cell_type": "markdown",
   "metadata": {},
   "source": [
    "Data downloaded from:\n",
    "\n",
    "https://sites.google.com/site/yangdingqi/home/foursquare-dataset"
   ]
  },
  {
   "cell_type": "code",
   "execution_count": 5,
   "metadata": {
    "collapsed": false
   },
   "outputs": [],
   "source": [
    "nyc = pd.read_table(\"dataset_tsmc2014/dataset_TSMC2014_NYC.txt\", header=None, parse_dates=[7], encoding = \"ISO-8859-1\")\n",
    "tokyo = pd.read_table(\"dataset_tsmc2014/dataset_TSMC2014_TKY.txt\", header=None, parse_dates=[7], encoding = \"ISO-8859-1\")"
   ]
  },
  {
   "cell_type": "code",
   "execution_count": 6,
   "metadata": {
    "collapsed": false
   },
   "outputs": [],
   "source": [
    "cols = ['userid', 'venusid', 'venus_category', 'venus_category_name', 'lat', 'lon', 'tzoffset_min', 'utc']\n",
    "nyc.columns = cols\n",
    "tokyo.columns = cols"
   ]
  },
  {
   "cell_type": "code",
   "execution_count": 7,
   "metadata": {
    "collapsed": true
   },
   "outputs": [],
   "source": [
    "def prepare_data(dat):\n",
    "    dat['local_time'] = dat.utc+list(map(lambda x: pd.Timedelta(x, 'm'), dat.tzoffset_min))\n",
    "    dat['week_hour'] = dat.local_time.dt.weekday*24 + dat.local_time.dt.hour\n",
    "    dat['month'] = dat.local_time.dt.month\n",
    "    dat = dat.sort_values(['userid', 'local_time'])\n",
    "    #dat.groupby(['userid', 'venus_category_name', 'week_hour']).count()\n",
    "    return dat"
   ]
  },
  {
   "cell_type": "code",
   "execution_count": 8,
   "metadata": {
    "collapsed": false,
    "scrolled": true
   },
   "outputs": [],
   "source": [
    "nyc = prepare_data(nyc)\n",
    "tokyo = prepare_data(tokyo)"
   ]
  },
  {
   "cell_type": "code",
   "execution_count": 9,
   "metadata": {
    "collapsed": false,
    "scrolled": true
   },
   "outputs": [],
   "source": [
    "nyc['season'] = pd.cut(nyc.month, bins=(0,2,5,8,11), labels=('winter', 'spring', 'summer', 'fall'))\n",
    "# fill in Dec\n",
    "nyc['season'] = nyc['season'].fillna('winter')"
   ]
  },
  {
   "cell_type": "code",
   "execution_count": 10,
   "metadata": {
    "collapsed": false
   },
   "outputs": [],
   "source": [
    "x=pd.DataFrame(nyc.groupby(['season', 'venus_category_name']).count().userid)\n",
    "\n",
    "x.columns=['counts']\n",
    "\n",
    "countbymonth = x.reset_index().pivot_table('counts', 'season', 'venus_category_name')#.fillna(0)"
   ]
  },
  {
   "cell_type": "code",
   "execution_count": 11,
   "metadata": {
    "collapsed": false
   },
   "outputs": [
    {
     "data": {
      "text/html": [
       "<div>\n",
       "<table border=\"1\" class=\"dataframe\">\n",
       "  <thead>\n",
       "    <tr style=\"text-align: right;\">\n",
       "      <th>venus_category_name</th>\n",
       "      <th>Afghan Restaurant</th>\n",
       "      <th>African Restaurant</th>\n",
       "      <th>Airport</th>\n",
       "      <th>American Restaurant</th>\n",
       "      <th>Animal Shelter</th>\n",
       "      <th>Antique Shop</th>\n",
       "      <th>Aquarium</th>\n",
       "      <th>Arcade</th>\n",
       "      <th>Arepa Restaurant</th>\n",
       "      <th>Argentinian Restaurant</th>\n",
       "      <th>...</th>\n",
       "      <th>Travel Lounge</th>\n",
       "      <th>Turkish Restaurant</th>\n",
       "      <th>University</th>\n",
       "      <th>Vegetarian / Vegan Restaurant</th>\n",
       "      <th>Video Game Store</th>\n",
       "      <th>Video Store</th>\n",
       "      <th>Vietnamese Restaurant</th>\n",
       "      <th>Winery</th>\n",
       "      <th>Wings Joint</th>\n",
       "      <th>Zoo</th>\n",
       "    </tr>\n",
       "    <tr>\n",
       "      <th>season</th>\n",
       "      <th></th>\n",
       "      <th></th>\n",
       "      <th></th>\n",
       "      <th></th>\n",
       "      <th></th>\n",
       "      <th></th>\n",
       "      <th></th>\n",
       "      <th></th>\n",
       "      <th></th>\n",
       "      <th></th>\n",
       "      <th></th>\n",
       "      <th></th>\n",
       "      <th></th>\n",
       "      <th></th>\n",
       "      <th></th>\n",
       "      <th></th>\n",
       "      <th></th>\n",
       "      <th></th>\n",
       "      <th></th>\n",
       "      <th></th>\n",
       "      <th></th>\n",
       "    </tr>\n",
       "  </thead>\n",
       "  <tbody>\n",
       "    <tr>\n",
       "      <th>winter</th>\n",
       "      <td>NaN</td>\n",
       "      <td>5.0</td>\n",
       "      <td>585.0</td>\n",
       "      <td>747.0</td>\n",
       "      <td>8.0</td>\n",
       "      <td>7.0</td>\n",
       "      <td>NaN</td>\n",
       "      <td>31.0</td>\n",
       "      <td>5.0</td>\n",
       "      <td>3.0</td>\n",
       "      <td>...</td>\n",
       "      <td>9.0</td>\n",
       "      <td>4.0</td>\n",
       "      <td>198.0</td>\n",
       "      <td>58.0</td>\n",
       "      <td>24.0</td>\n",
       "      <td>12.0</td>\n",
       "      <td>39.0</td>\n",
       "      <td>6.0</td>\n",
       "      <td>17.0</td>\n",
       "      <td>35.0</td>\n",
       "    </tr>\n",
       "    <tr>\n",
       "      <th>spring</th>\n",
       "      <td>2.0</td>\n",
       "      <td>23.0</td>\n",
       "      <td>1010.0</td>\n",
       "      <td>1359.0</td>\n",
       "      <td>38.0</td>\n",
       "      <td>9.0</td>\n",
       "      <td>5.0</td>\n",
       "      <td>162.0</td>\n",
       "      <td>7.0</td>\n",
       "      <td>7.0</td>\n",
       "      <td>...</td>\n",
       "      <td>3.0</td>\n",
       "      <td>9.0</td>\n",
       "      <td>475.0</td>\n",
       "      <td>154.0</td>\n",
       "      <td>30.0</td>\n",
       "      <td>14.0</td>\n",
       "      <td>64.0</td>\n",
       "      <td>8.0</td>\n",
       "      <td>65.0</td>\n",
       "      <td>37.0</td>\n",
       "    </tr>\n",
       "    <tr>\n",
       "      <th>summer</th>\n",
       "      <td>1.0</td>\n",
       "      <td>10.0</td>\n",
       "      <td>842.0</td>\n",
       "      <td>1036.0</td>\n",
       "      <td>9.0</td>\n",
       "      <td>5.0</td>\n",
       "      <td>5.0</td>\n",
       "      <td>131.0</td>\n",
       "      <td>6.0</td>\n",
       "      <td>6.0</td>\n",
       "      <td>...</td>\n",
       "      <td>9.0</td>\n",
       "      <td>4.0</td>\n",
       "      <td>191.0</td>\n",
       "      <td>102.0</td>\n",
       "      <td>29.0</td>\n",
       "      <td>11.0</td>\n",
       "      <td>52.0</td>\n",
       "      <td>11.0</td>\n",
       "      <td>44.0</td>\n",
       "      <td>18.0</td>\n",
       "    </tr>\n",
       "    <tr>\n",
       "      <th>fall</th>\n",
       "      <td>1.0</td>\n",
       "      <td>2.0</td>\n",
       "      <td>415.0</td>\n",
       "      <td>559.0</td>\n",
       "      <td>7.0</td>\n",
       "      <td>6.0</td>\n",
       "      <td>1.0</td>\n",
       "      <td>53.0</td>\n",
       "      <td>2.0</td>\n",
       "      <td>6.0</td>\n",
       "      <td>...</td>\n",
       "      <td>17.0</td>\n",
       "      <td>3.0</td>\n",
       "      <td>207.0</td>\n",
       "      <td>36.0</td>\n",
       "      <td>40.0</td>\n",
       "      <td>5.0</td>\n",
       "      <td>25.0</td>\n",
       "      <td>6.0</td>\n",
       "      <td>23.0</td>\n",
       "      <td>14.0</td>\n",
       "    </tr>\n",
       "  </tbody>\n",
       "</table>\n",
       "<p>4 rows × 251 columns</p>\n",
       "</div>"
      ],
      "text/plain": [
       "venus_category_name  Afghan Restaurant  African Restaurant  Airport  \\\n",
       "season                                                                \n",
       "winter                             NaN                 5.0    585.0   \n",
       "spring                             2.0                23.0   1010.0   \n",
       "summer                             1.0                10.0    842.0   \n",
       "fall                               1.0                 2.0    415.0   \n",
       "\n",
       "venus_category_name  American Restaurant  Animal Shelter  Antique Shop  \\\n",
       "season                                                                   \n",
       "winter                             747.0             8.0           7.0   \n",
       "spring                            1359.0            38.0           9.0   \n",
       "summer                            1036.0             9.0           5.0   \n",
       "fall                               559.0             7.0           6.0   \n",
       "\n",
       "venus_category_name  Aquarium  Arcade  Arepa Restaurant  \\\n",
       "season                                                    \n",
       "winter                    NaN    31.0               5.0   \n",
       "spring                    5.0   162.0               7.0   \n",
       "summer                    5.0   131.0               6.0   \n",
       "fall                      1.0    53.0               2.0   \n",
       "\n",
       "venus_category_name  Argentinian Restaurant  ...   Travel Lounge  \\\n",
       "season                                       ...                   \n",
       "winter                                  3.0  ...             9.0   \n",
       "spring                                  7.0  ...             3.0   \n",
       "summer                                  6.0  ...             9.0   \n",
       "fall                                    6.0  ...            17.0   \n",
       "\n",
       "venus_category_name  Turkish Restaurant  University  \\\n",
       "season                                                \n",
       "winter                              4.0       198.0   \n",
       "spring                              9.0       475.0   \n",
       "summer                              4.0       191.0   \n",
       "fall                                3.0       207.0   \n",
       "\n",
       "venus_category_name  Vegetarian / Vegan Restaurant  Video Game Store  \\\n",
       "season                                                                 \n",
       "winter                                        58.0              24.0   \n",
       "spring                                       154.0              30.0   \n",
       "summer                                       102.0              29.0   \n",
       "fall                                          36.0              40.0   \n",
       "\n",
       "venus_category_name  Video Store  Vietnamese Restaurant  Winery  Wings Joint  \\\n",
       "season                                                                         \n",
       "winter                      12.0                   39.0     6.0         17.0   \n",
       "spring                      14.0                   64.0     8.0         65.0   \n",
       "summer                      11.0                   52.0    11.0         44.0   \n",
       "fall                         5.0                   25.0     6.0         23.0   \n",
       "\n",
       "venus_category_name   Zoo  \n",
       "season                     \n",
       "winter               35.0  \n",
       "spring               37.0  \n",
       "summer               18.0  \n",
       "fall                 14.0  \n",
       "\n",
       "[4 rows x 251 columns]"
      ]
     },
     "execution_count": 11,
     "metadata": {},
     "output_type": "execute_result"
    }
   ],
   "source": [
    "countbymonth"
   ]
  },
  {
   "cell_type": "code",
   "execution_count": 12,
   "metadata": {
    "collapsed": false
   },
   "outputs": [
    {
     "data": {
      "text/plain": [
       "<matplotlib.axes._subplots.AxesSubplot at 0x7f2a1021e240>"
      ]
     },
     "execution_count": 12,
     "metadata": {},
     "output_type": "execute_result"
    },
    {
     "data": {
      "image/png": "[encoded data removed]",
      "text/plain": [
       "<matplotlib.figure.Figure at 0x7f2a645cb2e8>"
      ]
     },
     "metadata": {},
     "output_type": "display_data"
    }
   ],
   "source": [
    "countbymonth.T.plot(kind='bar')"
   ]
  },
  {
   "cell_type": "code",
   "execution_count": 13,
   "metadata": {
    "collapsed": false
   },
   "outputs": [],
   "source": [
    "freqbymonth = (countbymonth.T/countbymonth.sum(axis=1)).T"
   ]
  },
  {
   "cell_type": "code",
   "execution_count": 14,
   "metadata": {
    "collapsed": false
   },
   "outputs": [],
   "source": [
    "freqbymonth.fillna(1e-6, inplace=True)"
   ]
  },
  {
   "cell_type": "code",
   "execution_count": 15,
   "metadata": {
    "collapsed": false
   },
   "outputs": [
    {
     "data": {
      "text/html": [
       "<div>\n",
       "<table border=\"1\" class=\"dataframe\">\n",
       "  <thead>\n",
       "    <tr style=\"text-align: right;\">\n",
       "      <th>venus_category_name</th>\n",
       "      <th>Afghan Restaurant</th>\n",
       "      <th>African Restaurant</th>\n",
       "      <th>Airport</th>\n",
       "      <th>American Restaurant</th>\n",
       "      <th>Animal Shelter</th>\n",
       "      <th>Antique Shop</th>\n",
       "      <th>Aquarium</th>\n",
       "      <th>Arcade</th>\n",
       "      <th>Arepa Restaurant</th>\n",
       "      <th>Argentinian Restaurant</th>\n",
       "      <th>...</th>\n",
       "      <th>Travel Lounge</th>\n",
       "      <th>Turkish Restaurant</th>\n",
       "      <th>University</th>\n",
       "      <th>Vegetarian / Vegan Restaurant</th>\n",
       "      <th>Video Game Store</th>\n",
       "      <th>Video Store</th>\n",
       "      <th>Vietnamese Restaurant</th>\n",
       "      <th>Winery</th>\n",
       "      <th>Wings Joint</th>\n",
       "      <th>Zoo</th>\n",
       "    </tr>\n",
       "    <tr>\n",
       "      <th>season</th>\n",
       "      <th></th>\n",
       "      <th></th>\n",
       "      <th></th>\n",
       "      <th></th>\n",
       "      <th></th>\n",
       "      <th></th>\n",
       "      <th></th>\n",
       "      <th></th>\n",
       "      <th></th>\n",
       "      <th></th>\n",
       "      <th></th>\n",
       "      <th></th>\n",
       "      <th></th>\n",
       "      <th></th>\n",
       "      <th></th>\n",
       "      <th></th>\n",
       "      <th></th>\n",
       "      <th></th>\n",
       "      <th></th>\n",
       "      <th></th>\n",
       "      <th></th>\n",
       "    </tr>\n",
       "  </thead>\n",
       "  <tbody>\n",
       "    <tr>\n",
       "      <th>winter</th>\n",
       "      <td>0.000001</td>\n",
       "      <td>0.000121</td>\n",
       "      <td>0.014115</td>\n",
       "      <td>0.018024</td>\n",
       "      <td>0.000193</td>\n",
       "      <td>0.000169</td>\n",
       "      <td>0.000001</td>\n",
       "      <td>0.000748</td>\n",
       "      <td>0.000121</td>\n",
       "      <td>0.000072</td>\n",
       "      <td>...</td>\n",
       "      <td>0.000217</td>\n",
       "      <td>0.000097</td>\n",
       "      <td>0.004777</td>\n",
       "      <td>0.001399</td>\n",
       "      <td>0.000579</td>\n",
       "      <td>0.000290</td>\n",
       "      <td>0.000941</td>\n",
       "      <td>0.000145</td>\n",
       "      <td>0.000410</td>\n",
       "      <td>0.000844</td>\n",
       "    </tr>\n",
       "    <tr>\n",
       "      <th>spring</th>\n",
       "      <td>0.000022</td>\n",
       "      <td>0.000253</td>\n",
       "      <td>0.011108</td>\n",
       "      <td>0.014946</td>\n",
       "      <td>0.000418</td>\n",
       "      <td>0.000099</td>\n",
       "      <td>0.000055</td>\n",
       "      <td>0.001782</td>\n",
       "      <td>0.000077</td>\n",
       "      <td>0.000077</td>\n",
       "      <td>...</td>\n",
       "      <td>0.000033</td>\n",
       "      <td>0.000099</td>\n",
       "      <td>0.005224</td>\n",
       "      <td>0.001694</td>\n",
       "      <td>0.000330</td>\n",
       "      <td>0.000154</td>\n",
       "      <td>0.000704</td>\n",
       "      <td>0.000088</td>\n",
       "      <td>0.000715</td>\n",
       "      <td>0.000407</td>\n",
       "    </tr>\n",
       "    <tr>\n",
       "      <th>summer</th>\n",
       "      <td>0.000016</td>\n",
       "      <td>0.000160</td>\n",
       "      <td>0.013432</td>\n",
       "      <td>0.016527</td>\n",
       "      <td>0.000144</td>\n",
       "      <td>0.000080</td>\n",
       "      <td>0.000080</td>\n",
       "      <td>0.002090</td>\n",
       "      <td>0.000096</td>\n",
       "      <td>0.000096</td>\n",
       "      <td>...</td>\n",
       "      <td>0.000144</td>\n",
       "      <td>0.000064</td>\n",
       "      <td>0.003047</td>\n",
       "      <td>0.001627</td>\n",
       "      <td>0.000463</td>\n",
       "      <td>0.000175</td>\n",
       "      <td>0.000830</td>\n",
       "      <td>0.000175</td>\n",
       "      <td>0.000702</td>\n",
       "      <td>0.000287</td>\n",
       "    </tr>\n",
       "    <tr>\n",
       "      <th>fall</th>\n",
       "      <td>0.000031</td>\n",
       "      <td>0.000062</td>\n",
       "      <td>0.012819</td>\n",
       "      <td>0.017267</td>\n",
       "      <td>0.000216</td>\n",
       "      <td>0.000185</td>\n",
       "      <td>0.000031</td>\n",
       "      <td>0.001637</td>\n",
       "      <td>0.000062</td>\n",
       "      <td>0.000185</td>\n",
       "      <td>...</td>\n",
       "      <td>0.000525</td>\n",
       "      <td>0.000093</td>\n",
       "      <td>0.006394</td>\n",
       "      <td>0.001112</td>\n",
       "      <td>0.001236</td>\n",
       "      <td>0.000154</td>\n",
       "      <td>0.000772</td>\n",
       "      <td>0.000185</td>\n",
       "      <td>0.000710</td>\n",
       "      <td>0.000432</td>\n",
       "    </tr>\n",
       "  </tbody>\n",
       "</table>\n",
       "<p>4 rows × 251 columns</p>\n",
       "</div>"
      ],
      "text/plain": [
       "venus_category_name  Afghan Restaurant  African Restaurant   Airport  \\\n",
       "season                                                                 \n",
       "winter                        0.000001            0.000121  0.014115   \n",
       "spring                        0.000022            0.000253  0.011108   \n",
       "summer                        0.000016            0.000160  0.013432   \n",
       "fall                          0.000031            0.000062  0.012819   \n",
       "\n",
       "venus_category_name  American Restaurant  Animal Shelter  Antique Shop  \\\n",
       "season                                                                   \n",
       "winter                          0.018024        0.000193      0.000169   \n",
       "spring                          0.014946        0.000418      0.000099   \n",
       "summer                          0.016527        0.000144      0.000080   \n",
       "fall                            0.017267        0.000216      0.000185   \n",
       "\n",
       "venus_category_name  Aquarium    Arcade  Arepa Restaurant  \\\n",
       "season                                                      \n",
       "winter               0.000001  0.000748          0.000121   \n",
       "spring               0.000055  0.001782          0.000077   \n",
       "summer               0.000080  0.002090          0.000096   \n",
       "fall                 0.000031  0.001637          0.000062   \n",
       "\n",
       "venus_category_name  Argentinian Restaurant    ...     Travel Lounge  \\\n",
       "season                                         ...                     \n",
       "winter                             0.000072    ...          0.000217   \n",
       "spring                             0.000077    ...          0.000033   \n",
       "summer                             0.000096    ...          0.000144   \n",
       "fall                               0.000185    ...          0.000525   \n",
       "\n",
       "venus_category_name  Turkish Restaurant  University  \\\n",
       "season                                                \n",
       "winter                         0.000097    0.004777   \n",
       "spring                         0.000099    0.005224   \n",
       "summer                         0.000064    0.003047   \n",
       "fall                           0.000093    0.006394   \n",
       "\n",
       "venus_category_name  Vegetarian / Vegan Restaurant  Video Game Store  \\\n",
       "season                                                                 \n",
       "winter                                    0.001399          0.000579   \n",
       "spring                                    0.001694          0.000330   \n",
       "summer                                    0.001627          0.000463   \n",
       "fall                                      0.001112          0.001236   \n",
       "\n",
       "venus_category_name  Video Store  Vietnamese Restaurant    Winery  \\\n",
       "season                                                              \n",
       "winter                  0.000290               0.000941  0.000145   \n",
       "spring                  0.000154               0.000704  0.000088   \n",
       "summer                  0.000175               0.000830  0.000175   \n",
       "fall                    0.000154               0.000772  0.000185   \n",
       "\n",
       "venus_category_name  Wings Joint       Zoo  \n",
       "season                                      \n",
       "winter                  0.000410  0.000844  \n",
       "spring                  0.000715  0.000407  \n",
       "summer                  0.000702  0.000287  \n",
       "fall                    0.000710  0.000432  \n",
       "\n",
       "[4 rows x 251 columns]"
      ]
     },
     "execution_count": 15,
     "metadata": {},
     "output_type": "execute_result"
    }
   ],
   "source": [
    "freqbymonth"
   ]
  },
  {
   "cell_type": "code",
   "execution_count": 16,
   "metadata": {
    "collapsed": false,
    "scrolled": true
   },
   "outputs": [],
   "source": [
    "# kl divergence\n",
    "kldiv = np.zeros((freqbymonth.shape[0], freqbymonth.shape[0]))\n",
    "# correlation\n",
    "cov = np.zeros((freqbymonth.shape[0], freqbymonth.shape[0]))\n",
    "# calculate pairwise kl divergence\n",
    "for i in range(freqbymonth.shape[0]):\n",
    "    for j in range(i, freqbymonth.shape[0]):\n",
    "        kldiv[i][j] = stats.entropy(freqbymonth.iloc[i], freqbymonth.iloc[j])\n",
    "        kldiv[j][i] = stats.entropy(freqbymonth.iloc[j], freqbymonth.iloc[i])\n",
    "        cov[i][j] = np.corrcoef(freqbymonth.iloc[i], freqbymonth.iloc[j])[0][1]"
   ]
  },
  {
   "cell_type": "markdown",
   "metadata": {},
   "source": [
    "From the correlation matrix, looks like people checkins doesn't depends much on seasons"
   ]
  },
  {
   "cell_type": "code",
   "execution_count": 17,
   "metadata": {
    "collapsed": false
   },
   "outputs": [
    {
     "data": {
      "text/plain": [
       "array([[ 1.        ,  0.96948856,  0.97764556,  0.99034261],\n",
       "       [ 0.        ,  1.        ,  0.99361238,  0.9750123 ],\n",
       "       [ 0.        ,  0.        ,  1.        ,  0.98153946],\n",
       "       [ 0.        ,  0.        ,  0.        ,  1.        ]])"
      ]
     },
     "execution_count": 17,
     "metadata": {},
     "output_type": "execute_result"
    }
   ],
   "source": [
    "cov"
   ]
  },
  {
   "cell_type": "code",
   "execution_count": 18,
   "metadata": {
    "collapsed": false
   },
   "outputs": [],
   "source": [
    "kldiv = pd.DataFrame(kldiv)"
   ]
  },
  {
   "cell_type": "code",
   "execution_count": 19,
   "metadata": {
    "collapsed": false
   },
   "outputs": [],
   "source": [
    "kldiv.columns = freqbymonth.index\n",
    "kldiv.index = freqbymonth.index"
   ]
  },
  {
   "cell_type": "code",
   "execution_count": 20,
   "metadata": {
    "collapsed": false
   },
   "outputs": [
    {
     "data": {
      "text/html": [
       "<div>\n",
       "<table border=\"1\" class=\"dataframe\">\n",
       "  <thead>\n",
       "    <tr style=\"text-align: right;\">\n",
       "      <th>season</th>\n",
       "      <th>winter</th>\n",
       "      <th>spring</th>\n",
       "      <th>summer</th>\n",
       "      <th>fall</th>\n",
       "    </tr>\n",
       "    <tr>\n",
       "      <th>season</th>\n",
       "      <th></th>\n",
       "      <th></th>\n",
       "      <th></th>\n",
       "      <th></th>\n",
       "    </tr>\n",
       "  </thead>\n",
       "  <tbody>\n",
       "    <tr>\n",
       "      <th>winter</th>\n",
       "      <td>0.000000</td>\n",
       "      <td>0.063217</td>\n",
       "      <td>0.047997</td>\n",
       "      <td>0.032153</td>\n",
       "    </tr>\n",
       "    <tr>\n",
       "      <th>spring</th>\n",
       "      <td>0.055169</td>\n",
       "      <td>0.000000</td>\n",
       "      <td>0.019219</td>\n",
       "      <td>0.041515</td>\n",
       "    </tr>\n",
       "    <tr>\n",
       "      <th>summer</th>\n",
       "      <td>0.051813</td>\n",
       "      <td>0.022137</td>\n",
       "      <td>0.000000</td>\n",
       "      <td>0.040676</td>\n",
       "    </tr>\n",
       "    <tr>\n",
       "      <th>fall</th>\n",
       "      <td>0.031623</td>\n",
       "      <td>0.045629</td>\n",
       "      <td>0.038876</td>\n",
       "      <td>0.000000</td>\n",
       "    </tr>\n",
       "  </tbody>\n",
       "</table>\n",
       "</div>"
      ],
      "text/plain": [
       "season    winter    spring    summer      fall\n",
       "season                                        \n",
       "winter  0.000000  0.063217  0.047997  0.032153\n",
       "spring  0.055169  0.000000  0.019219  0.041515\n",
       "summer  0.051813  0.022137  0.000000  0.040676\n",
       "fall    0.031623  0.045629  0.038876  0.000000"
      ]
     },
     "execution_count": 20,
     "metadata": {},
     "output_type": "execute_result"
    }
   ],
   "source": [
    "kldiv"
   ]
  },
  {
   "cell_type": "code",
   "execution_count": 21,
   "metadata": {
    "collapsed": false
   },
   "outputs": [
    {
     "data": {
      "text/plain": [
       "<matplotlib.image.AxesImage at 0x7f2a15130fd0>"
      ]
     },
     "execution_count": 21,
     "metadata": {},
     "output_type": "execute_result"
    },
    {
     "data": {
      "image/png": "[encoded data removed]",
      "text/plain": [
       "<matplotlib.figure.Figure at 0x7f2a0fd15780>"
      ]
     },
     "metadata": {},
     "output_type": "display_data"
    }
   ],
   "source": [
    "plt.imshow(kldiv, cmap='hot', interpolation='nearest')"
   ]
  },
  {
   "cell_type": "code",
   "execution_count": 22,
   "metadata": {
    "collapsed": false
   },
   "outputs": [],
   "source": [
    "pd.DataFrame(x.groupby(level=0, as_index=False).apply(lambda x: x['counts']/x.counts.sum())).to_clipboard()"
   ]
  },
  {
   "cell_type": "markdown",
   "metadata": {},
   "source": [
    "# Prepare training and test data\n",
    "TODO: use different spliting method?"
   ]
  },
  {
   "cell_type": "code",
   "execution_count": 23,
   "metadata": {
    "collapsed": true
   },
   "outputs": [],
   "source": [
    "train_test_time_split = pd.to_datetime('2012-12-31')\n",
    "\n",
    "nyc_train, nyc_test = nyc[nyc.local_time < train_test_time_split], nyc[nyc.local_time >= train_test_time_split]"
   ]
  },
  {
   "cell_type": "markdown",
   "metadata": {},
   "source": [
    "# temporal activity preference"
   ]
  },
  {
   "cell_type": "code",
   "execution_count": 24,
   "metadata": {
    "collapsed": false,
    "scrolled": true
   },
   "outputs": [],
   "source": [
    "uservenushour_tenor = nyc_train.groupby(['userid', 'venus_category_name', 'week_hour']).count()['utc']\n",
    "uservenushour_tenor.name = 'count'"
   ]
  },
  {
   "cell_type": "code",
   "execution_count": 25,
   "metadata": {
    "collapsed": false
   },
   "outputs": [],
   "source": [
    "uservenushour_tenor = pd.DataFrame(uservenushour_tenor).unstack().fillna(0).unstack().fillna(0)"
   ]
  },
  {
   "cell_type": "code",
   "execution_count": 138,
   "metadata": {
    "collapsed": false,
    "scrolled": false
   },
   "outputs": [],
   "source": [
    "# from index to userid, venuse_names\n",
    "userids = np.array(uservenushour_tenor.index)\n",
    "\n",
    "venus_names = np.array(uservenushour_tenor.columns.levels[2])"
   ]
  },
  {
   "cell_type": "code",
   "execution_count": 150,
   "metadata": {
    "collapsed": false
   },
   "outputs": [],
   "source": [
    "# map userid to array index in the tenor's user dimension\n",
    "id2idx = np.zeros(userids.max()+1, dtype=int)\n",
    "\n",
    "id2idx[userids]=np.arange(len(id2idx))"
   ]
  },
  {
   "cell_type": "code",
   "execution_count": 220,
   "metadata": {
    "collapsed": true
   },
   "outputs": [],
   "source": [
    "HOURS_PER_WEEK = 168"
   ]
  },
  {
   "cell_type": "code",
   "execution_count": 221,
   "metadata": {
    "collapsed": false
   },
   "outputs": [],
   "source": [
    "# reshape into tenor of user x hour x tenus\n",
    "uvh = uservenushour_tenor.values.reshape((uservenushour_tenor.shape[0], HOURS_PER_WEEK, \n",
    "                                          uservenushour_tenor.shape[1]//HOURS_PER_WEEK))"
   ]
  },
  {
   "cell_type": "code",
   "execution_count": 216,
   "metadata": {
    "collapsed": true
   },
   "outputs": [],
   "source": [
    "def tenor_model(uvh, latent_dimension):\n",
    "    ## tenor CP decomposition model\n",
    "    factors = non_negative_parafac(tl.tensor(uvh), latent_dimension, 200, 'svd')\n",
    "    # model reconstructed uvh tensor\n",
    "    uvh_hat = tl.kruskal_to_tensor(factors)\n",
    "    uvh_hat_normalized = uvh_hat.asnumpy() / uvh_hat.sum(axis=[2]).asnumpy()[:,:,np.newaxis]\n",
    "    return uvh_hat_normalized"
   ]
  },
  {
   "cell_type": "code",
   "execution_count": 218,
   "metadata": {
    "collapsed": true
   },
   "outputs": [],
   "source": [
    "# the latent dimension of CP decomposition\n",
    "latent_dimension = 64"
   ]
  },
  {
   "cell_type": "code",
   "execution_count": 219,
   "metadata": {
    "collapsed": false,
    "scrolled": true
   },
   "outputs": [],
   "source": [
    "uvh_hat_normalized = tenor_model(uvh, latent_dimension)"
   ]
  },
  {
   "cell_type": "code",
   "execution_count": 222,
   "metadata": {
    "collapsed": false,
    "scrolled": true
   },
   "outputs": [
    {
     "data": {
      "text/plain": [
       "array(['Subway', 'American Restaurant', 'Drugstore / Pharmacy',\n",
       "       'Residential Building (Apartment / Condo)', 'Clothing Store',\n",
       "       'Coffee Shop', 'Building', 'Park', 'Food & Drink Shop', 'Bar'], dtype=object)"
      ]
     },
     "execution_count": 222,
     "metadata": {},
     "output_type": "execute_result"
    }
   ],
   "source": [
    "venus_names[np.argsort(uvh_hat_normalized[0, 110, :])[-10:]]"
   ]
  },
  {
   "cell_type": "code",
   "execution_count": 223,
   "metadata": {
    "collapsed": false,
    "scrolled": true
   },
   "outputs": [],
   "source": [
    "# top one prediction\n",
    "predicted_venusid = uvh_hat_normalized[id2idx[nyc_test.userid.values], nyc_test.week_hour.values, :].argmax(axis=1)"
   ]
  },
  {
   "cell_type": "code",
   "execution_count": 224,
   "metadata": {
    "collapsed": false
   },
   "outputs": [],
   "source": [
    "predicted_venus = venus_names[predicted_venusid.astype(int)]"
   ]
  },
  {
   "cell_type": "code",
   "execution_count": 225,
   "metadata": {
    "collapsed": false
   },
   "outputs": [
    {
     "data": {
      "text/plain": [
       "array(['Home (private)', 'Gym / Fitness Center', 'Subway',\n",
       "       'Gym / Fitness Center', 'Bar', 'Subway', 'Subway',\n",
       "       'Gym / Fitness Center', 'Home (private)', 'Gym / Fitness Center',\n",
       "       'Gym / Fitness Center', 'Gym / Fitness Center',\n",
       "       'Gym / Fitness Center', 'Gym / Fitness Center',\n",
       "       'Gym / Fitness Center', 'Gym / Fitness Center', 'Subway', 'Bar',\n",
       "       'Bar', 'Food & Drink Shop', 'Home (private)', 'Bar', 'Bar',\n",
       "       'Food & Drink Shop', 'Food & Drink Shop', 'Gym / Fitness Center',\n",
       "       'Gym / Fitness Center', 'Train Station', 'Train Station',\n",
       "       'Gym / Fitness Center'], dtype=object)"
      ]
     },
     "execution_count": 225,
     "metadata": {},
     "output_type": "execute_result"
    }
   ],
   "source": [
    "predicted_venus[:30]"
   ]
  },
  {
   "cell_type": "code",
   "execution_count": 226,
   "metadata": {
    "collapsed": false
   },
   "outputs": [
    {
     "data": {
      "text/plain": [
       "205373    Department Store\n",
       "205384            Building\n",
       "205418         Coffee Shop\n",
       "205785              Subway\n",
       "206048     Thai Restaurant\n",
       "Name: venus_category_name, dtype: object"
      ]
     },
     "execution_count": 226,
     "metadata": {},
     "output_type": "execute_result"
    }
   ],
   "source": [
    "nyc_test.venus_category_name.head()"
   ]
  },
  {
   "cell_type": "code",
   "execution_count": 227,
   "metadata": {
    "collapsed": false,
    "scrolled": true
   },
   "outputs": [
    {
     "data": {
      "text/html": [
       "<div>\n",
       "<table border=\"1\" class=\"dataframe\">\n",
       "  <thead>\n",
       "    <tr style=\"text-align: right;\">\n",
       "      <th></th>\n",
       "      <th>userid</th>\n",
       "      <th>venusid</th>\n",
       "      <th>venus_category</th>\n",
       "      <th>venus_category_name</th>\n",
       "      <th>lat</th>\n",
       "      <th>lon</th>\n",
       "      <th>tzoffset_min</th>\n",
       "      <th>utc</th>\n",
       "      <th>local_time</th>\n",
       "      <th>week_hour</th>\n",
       "      <th>month</th>\n",
       "      <th>season</th>\n",
       "    </tr>\n",
       "  </thead>\n",
       "  <tbody>\n",
       "    <tr>\n",
       "      <th>205373</th>\n",
       "      <td>2</td>\n",
       "      <td>4531059cf964a520683b1fe3</td>\n",
       "      <td>4bf58dd8d48988d1f6941735</td>\n",
       "      <td>Department Store</td>\n",
       "      <td>40.762325</td>\n",
       "      <td>-73.967814</td>\n",
       "      <td>-300</td>\n",
       "      <td>2013-01-02 17:39:53</td>\n",
       "      <td>2013-01-02 12:39:53</td>\n",
       "      <td>60</td>\n",
       "      <td>1</td>\n",
       "      <td>winter</td>\n",
       "    </tr>\n",
       "    <tr>\n",
       "      <th>205384</th>\n",
       "      <td>2</td>\n",
       "      <td>50a430bfe4b0f010d751e3a5</td>\n",
       "      <td>4bf58dd8d48988d130941735</td>\n",
       "      <td>Building</td>\n",
       "      <td>40.764655</td>\n",
       "      <td>-73.970741</td>\n",
       "      <td>-300</td>\n",
       "      <td>2013-01-02 18:19:51</td>\n",
       "      <td>2013-01-02 13:19:51</td>\n",
       "      <td>61</td>\n",
       "      <td>1</td>\n",
       "      <td>winter</td>\n",
       "    </tr>\n",
       "    <tr>\n",
       "      <th>205418</th>\n",
       "      <td>2</td>\n",
       "      <td>4a871b30f964a5209a0220e3</td>\n",
       "      <td>4bf58dd8d48988d1e0931735</td>\n",
       "      <td>Coffee Shop</td>\n",
       "      <td>40.741396</td>\n",
       "      <td>-74.004818</td>\n",
       "      <td>-300</td>\n",
       "      <td>2013-01-02 19:52:22</td>\n",
       "      <td>2013-01-02 14:52:22</td>\n",
       "      <td>62</td>\n",
       "      <td>1</td>\n",
       "      <td>winter</td>\n",
       "    </tr>\n",
       "    <tr>\n",
       "      <th>205785</th>\n",
       "      <td>2</td>\n",
       "      <td>4b8f50d9f964a520365133e3</td>\n",
       "      <td>4bf58dd8d48988d1fd931735</td>\n",
       "      <td>Subway</td>\n",
       "      <td>40.646099</td>\n",
       "      <td>-73.902669</td>\n",
       "      <td>-300</td>\n",
       "      <td>2013-01-03 15:13:27</td>\n",
       "      <td>2013-01-03 10:13:27</td>\n",
       "      <td>82</td>\n",
       "      <td>1</td>\n",
       "      <td>winter</td>\n",
       "    </tr>\n",
       "    <tr>\n",
       "      <th>206048</th>\n",
       "      <td>2</td>\n",
       "      <td>4e7bb781887742fc66380d56</td>\n",
       "      <td>4bf58dd8d48988d149941735</td>\n",
       "      <td>Thai Restaurant</td>\n",
       "      <td>40.634026</td>\n",
       "      <td>-74.026825</td>\n",
       "      <td>-300</td>\n",
       "      <td>2013-01-03 23:56:45</td>\n",
       "      <td>2013-01-03 18:56:45</td>\n",
       "      <td>90</td>\n",
       "      <td>1</td>\n",
       "      <td>winter</td>\n",
       "    </tr>\n",
       "    <tr>\n",
       "      <th>206529</th>\n",
       "      <td>2</td>\n",
       "      <td>4b7ecc2cf964a520420030e3</td>\n",
       "      <td>4bf58dd8d48988d1e0931735</td>\n",
       "      <td>Coffee Shop</td>\n",
       "      <td>40.606937</td>\n",
       "      <td>-74.162751</td>\n",
       "      <td>-300</td>\n",
       "      <td>2013-01-04 19:33:58</td>\n",
       "      <td>2013-01-04 14:33:58</td>\n",
       "      <td>110</td>\n",
       "      <td>1</td>\n",
       "      <td>winter</td>\n",
       "    </tr>\n",
       "    <tr>\n",
       "      <th>206820</th>\n",
       "      <td>2</td>\n",
       "      <td>4b740a6af964a5200bc52de3</td>\n",
       "      <td>4bf58dd8d48988d179941735</td>\n",
       "      <td>Bagel Shop</td>\n",
       "      <td>40.626531</td>\n",
       "      <td>-74.129270</td>\n",
       "      <td>-300</td>\n",
       "      <td>2013-01-05 06:35:04</td>\n",
       "      <td>2013-01-05 01:35:04</td>\n",
       "      <td>121</td>\n",
       "      <td>1</td>\n",
       "      <td>winter</td>\n",
       "    </tr>\n",
       "    <tr>\n",
       "      <th>208135</th>\n",
       "      <td>2</td>\n",
       "      <td>4a3d735cf964a5204ba21fe3</td>\n",
       "      <td>4bf58dd8d48988d1f6941735</td>\n",
       "      <td>Department Store</td>\n",
       "      <td>40.751502</td>\n",
       "      <td>-73.982719</td>\n",
       "      <td>-300</td>\n",
       "      <td>2013-01-07 16:36:38</td>\n",
       "      <td>2013-01-07 11:36:38</td>\n",
       "      <td>11</td>\n",
       "      <td>1</td>\n",
       "      <td>winter</td>\n",
       "    </tr>\n",
       "    <tr>\n",
       "      <th>208173</th>\n",
       "      <td>2</td>\n",
       "      <td>3fd66200f964a520def11ee3</td>\n",
       "      <td>4bf58dd8d48988d163941735</td>\n",
       "      <td>Park</td>\n",
       "      <td>40.735282</td>\n",
       "      <td>-73.990403</td>\n",
       "      <td>-300</td>\n",
       "      <td>2013-01-07 17:41:00</td>\n",
       "      <td>2013-01-07 12:41:00</td>\n",
       "      <td>12</td>\n",
       "      <td>1</td>\n",
       "      <td>winter</td>\n",
       "    </tr>\n",
       "    <tr>\n",
       "      <th>208261</th>\n",
       "      <td>2</td>\n",
       "      <td>4c26b50fa852c9287f33e76c</td>\n",
       "      <td>4f2a25ac4b909258e854f55f</td>\n",
       "      <td>Neighborhood</td>\n",
       "      <td>40.643657</td>\n",
       "      <td>-73.900673</td>\n",
       "      <td>-300</td>\n",
       "      <td>2013-01-07 20:13:30</td>\n",
       "      <td>2013-01-07 15:13:30</td>\n",
       "      <td>15</td>\n",
       "      <td>1</td>\n",
       "      <td>winter</td>\n",
       "    </tr>\n",
       "    <tr>\n",
       "      <th>208703</th>\n",
       "      <td>2</td>\n",
       "      <td>4d48864b551db1f722e9a330</td>\n",
       "      <td>4bf58dd8d48988d175941735</td>\n",
       "      <td>Gym / Fitness Center</td>\n",
       "      <td>40.646560</td>\n",
       "      <td>-73.913607</td>\n",
       "      <td>-300</td>\n",
       "      <td>2013-01-08 15:18:53</td>\n",
       "      <td>2013-01-08 10:18:53</td>\n",
       "      <td>34</td>\n",
       "      <td>1</td>\n",
       "      <td>winter</td>\n",
       "    </tr>\n",
       "    <tr>\n",
       "      <th>209289</th>\n",
       "      <td>2</td>\n",
       "      <td>4b8f50d9f964a520365133e3</td>\n",
       "      <td>4bf58dd8d48988d1fd931735</td>\n",
       "      <td>Subway</td>\n",
       "      <td>40.646099</td>\n",
       "      <td>-73.902669</td>\n",
       "      <td>-300</td>\n",
       "      <td>2013-01-09 14:23:52</td>\n",
       "      <td>2013-01-09 09:23:52</td>\n",
       "      <td>57</td>\n",
       "      <td>1</td>\n",
       "      <td>winter</td>\n",
       "    </tr>\n",
       "    <tr>\n",
       "      <th>209405</th>\n",
       "      <td>2</td>\n",
       "      <td>4a5dd98ef964a520c2bd1fe3</td>\n",
       "      <td>4bf58dd8d48988d1e0931735</td>\n",
       "      <td>Coffee Shop</td>\n",
       "      <td>40.737841</td>\n",
       "      <td>-73.988498</td>\n",
       "      <td>-300</td>\n",
       "      <td>2013-01-09 18:06:35</td>\n",
       "      <td>2013-01-09 13:06:35</td>\n",
       "      <td>61</td>\n",
       "      <td>1</td>\n",
       "      <td>winter</td>\n",
       "    </tr>\n",
       "    <tr>\n",
       "      <th>209414</th>\n",
       "      <td>2</td>\n",
       "      <td>3fd66200f964a520def11ee3</td>\n",
       "      <td>4bf58dd8d48988d163941735</td>\n",
       "      <td>Park</td>\n",
       "      <td>40.735282</td>\n",
       "      <td>-73.990403</td>\n",
       "      <td>-300</td>\n",
       "      <td>2013-01-09 18:16:22</td>\n",
       "      <td>2013-01-09 13:16:22</td>\n",
       "      <td>61</td>\n",
       "      <td>1</td>\n",
       "      <td>winter</td>\n",
       "    </tr>\n",
       "    <tr>\n",
       "      <th>209878</th>\n",
       "      <td>2</td>\n",
       "      <td>4d48864b551db1f722e9a330</td>\n",
       "      <td>4bf58dd8d48988d175941735</td>\n",
       "      <td>Gym / Fitness Center</td>\n",
       "      <td>40.646560</td>\n",
       "      <td>-73.913607</td>\n",
       "      <td>-300</td>\n",
       "      <td>2013-01-10 15:54:51</td>\n",
       "      <td>2013-01-10 10:54:51</td>\n",
       "      <td>82</td>\n",
       "      <td>1</td>\n",
       "      <td>winter</td>\n",
       "    </tr>\n",
       "    <tr>\n",
       "      <th>209977</th>\n",
       "      <td>2</td>\n",
       "      <td>4cb1235b1168a093b30e3123</td>\n",
       "      <td>4bf58dd8d48988d165941735</td>\n",
       "      <td>Scenic Lookout</td>\n",
       "      <td>40.585368</td>\n",
       "      <td>-73.934033</td>\n",
       "      <td>-300</td>\n",
       "      <td>2013-01-10 19:01:41</td>\n",
       "      <td>2013-01-10 14:01:41</td>\n",
       "      <td>86</td>\n",
       "      <td>1</td>\n",
       "      <td>winter</td>\n",
       "    </tr>\n",
       "    <tr>\n",
       "      <th>210618</th>\n",
       "      <td>2</td>\n",
       "      <td>4cfbed25d8468cfacd6df76b</td>\n",
       "      <td>4bf58dd8d48988d1d0941735</td>\n",
       "      <td>Dessert Shop</td>\n",
       "      <td>40.714047</td>\n",
       "      <td>-73.954921</td>\n",
       "      <td>-300</td>\n",
       "      <td>2013-01-11 21:13:29</td>\n",
       "      <td>2013-01-11 16:13:29</td>\n",
       "      <td>112</td>\n",
       "      <td>1</td>\n",
       "      <td>winter</td>\n",
       "    </tr>\n",
       "    <tr>\n",
       "      <th>216452</th>\n",
       "      <td>2</td>\n",
       "      <td>4a20b852f964a520b97c1fe3</td>\n",
       "      <td>4bf58dd8d48988d1e0931735</td>\n",
       "      <td>Coffee Shop</td>\n",
       "      <td>40.735125</td>\n",
       "      <td>-73.990099</td>\n",
       "      <td>-300</td>\n",
       "      <td>2013-01-26 03:35:11</td>\n",
       "      <td>2013-01-25 22:35:11</td>\n",
       "      <td>118</td>\n",
       "      <td>1</td>\n",
       "      <td>winter</td>\n",
       "    </tr>\n",
       "    <tr>\n",
       "      <th>216493</th>\n",
       "      <td>2</td>\n",
       "      <td>4c176109f693b7139f0f5f54</td>\n",
       "      <td>4bf58dd8d48988d12b951735</td>\n",
       "      <td>Bus Station</td>\n",
       "      <td>40.645806</td>\n",
       "      <td>-73.902175</td>\n",
       "      <td>-300</td>\n",
       "      <td>2013-01-26 05:02:42</td>\n",
       "      <td>2013-01-26 00:02:42</td>\n",
       "      <td>120</td>\n",
       "      <td>1</td>\n",
       "      <td>winter</td>\n",
       "    </tr>\n",
       "    <tr>\n",
       "      <th>217440</th>\n",
       "      <td>2</td>\n",
       "      <td>4a9f1f91f964a5209b3c20e3</td>\n",
       "      <td>4bf58dd8d48988d157941735</td>\n",
       "      <td>American Restaurant</td>\n",
       "      <td>40.621975</td>\n",
       "      <td>-74.031582</td>\n",
       "      <td>-300</td>\n",
       "      <td>2013-01-27 20:25:42</td>\n",
       "      <td>2013-01-27 15:25:42</td>\n",
       "      <td>159</td>\n",
       "      <td>1</td>\n",
       "      <td>winter</td>\n",
       "    </tr>\n",
       "  </tbody>\n",
       "</table>\n",
       "</div>"
      ],
      "text/plain": [
       "        userid                   venusid            venus_category  \\\n",
       "205373       2  4531059cf964a520683b1fe3  4bf58dd8d48988d1f6941735   \n",
       "205384       2  50a430bfe4b0f010d751e3a5  4bf58dd8d48988d130941735   \n",
       "205418       2  4a871b30f964a5209a0220e3  4bf58dd8d48988d1e0931735   \n",
       "205785       2  4b8f50d9f964a520365133e3  4bf58dd8d48988d1fd931735   \n",
       "206048       2  4e7bb781887742fc66380d56  4bf58dd8d48988d149941735   \n",
       "206529       2  4b7ecc2cf964a520420030e3  4bf58dd8d48988d1e0931735   \n",
       "206820       2  4b740a6af964a5200bc52de3  4bf58dd8d48988d179941735   \n",
       "208135       2  4a3d735cf964a5204ba21fe3  4bf58dd8d48988d1f6941735   \n",
       "208173       2  3fd66200f964a520def11ee3  4bf58dd8d48988d163941735   \n",
       "208261       2  4c26b50fa852c9287f33e76c  4f2a25ac4b909258e854f55f   \n",
       "208703       2  4d48864b551db1f722e9a330  4bf58dd8d48988d175941735   \n",
       "209289       2  4b8f50d9f964a520365133e3  4bf58dd8d48988d1fd931735   \n",
       "209405       2  4a5dd98ef964a520c2bd1fe3  4bf58dd8d48988d1e0931735   \n",
       "209414       2  3fd66200f964a520def11ee3  4bf58dd8d48988d163941735   \n",
       "209878       2  4d48864b551db1f722e9a330  4bf58dd8d48988d175941735   \n",
       "209977       2  4cb1235b1168a093b30e3123  4bf58dd8d48988d165941735   \n",
       "210618       2  4cfbed25d8468cfacd6df76b  4bf58dd8d48988d1d0941735   \n",
       "216452       2  4a20b852f964a520b97c1fe3  4bf58dd8d48988d1e0931735   \n",
       "216493       2  4c176109f693b7139f0f5f54  4bf58dd8d48988d12b951735   \n",
       "217440       2  4a9f1f91f964a5209b3c20e3  4bf58dd8d48988d157941735   \n",
       "\n",
       "         venus_category_name        lat        lon  tzoffset_min  \\\n",
       "205373      Department Store  40.762325 -73.967814          -300   \n",
       "205384              Building  40.764655 -73.970741          -300   \n",
       "205418           Coffee Shop  40.741396 -74.004818          -300   \n",
       "205785                Subway  40.646099 -73.902669          -300   \n",
       "206048       Thai Restaurant  40.634026 -74.026825          -300   \n",
       "206529           Coffee Shop  40.606937 -74.162751          -300   \n",
       "206820            Bagel Shop  40.626531 -74.129270          -300   \n",
       "208135      Department Store  40.751502 -73.982719          -300   \n",
       "208173                  Park  40.735282 -73.990403          -300   \n",
       "208261          Neighborhood  40.643657 -73.900673          -300   \n",
       "208703  Gym / Fitness Center  40.646560 -73.913607          -300   \n",
       "209289                Subway  40.646099 -73.902669          -300   \n",
       "209405           Coffee Shop  40.737841 -73.988498          -300   \n",
       "209414                  Park  40.735282 -73.990403          -300   \n",
       "209878  Gym / Fitness Center  40.646560 -73.913607          -300   \n",
       "209977        Scenic Lookout  40.585368 -73.934033          -300   \n",
       "210618          Dessert Shop  40.714047 -73.954921          -300   \n",
       "216452           Coffee Shop  40.735125 -73.990099          -300   \n",
       "216493           Bus Station  40.645806 -73.902175          -300   \n",
       "217440   American Restaurant  40.621975 -74.031582          -300   \n",
       "\n",
       "                       utc          local_time  week_hour  month  season  \n",
       "205373 2013-01-02 17:39:53 2013-01-02 12:39:53         60      1  winter  \n",
       "205384 2013-01-02 18:19:51 2013-01-02 13:19:51         61      1  winter  \n",
       "205418 2013-01-02 19:52:22 2013-01-02 14:52:22         62      1  winter  \n",
       "205785 2013-01-03 15:13:27 2013-01-03 10:13:27         82      1  winter  \n",
       "206048 2013-01-03 23:56:45 2013-01-03 18:56:45         90      1  winter  \n",
       "206529 2013-01-04 19:33:58 2013-01-04 14:33:58        110      1  winter  \n",
       "206820 2013-01-05 06:35:04 2013-01-05 01:35:04        121      1  winter  \n",
       "208135 2013-01-07 16:36:38 2013-01-07 11:36:38         11      1  winter  \n",
       "208173 2013-01-07 17:41:00 2013-01-07 12:41:00         12      1  winter  \n",
       "208261 2013-01-07 20:13:30 2013-01-07 15:13:30         15      1  winter  \n",
       "208703 2013-01-08 15:18:53 2013-01-08 10:18:53         34      1  winter  \n",
       "209289 2013-01-09 14:23:52 2013-01-09 09:23:52         57      1  winter  \n",
       "209405 2013-01-09 18:06:35 2013-01-09 13:06:35         61      1  winter  \n",
       "209414 2013-01-09 18:16:22 2013-01-09 13:16:22         61      1  winter  \n",
       "209878 2013-01-10 15:54:51 2013-01-10 10:54:51         82      1  winter  \n",
       "209977 2013-01-10 19:01:41 2013-01-10 14:01:41         86      1  winter  \n",
       "210618 2013-01-11 21:13:29 2013-01-11 16:13:29        112      1  winter  \n",
       "216452 2013-01-26 03:35:11 2013-01-25 22:35:11        118      1  winter  \n",
       "216493 2013-01-26 05:02:42 2013-01-26 00:02:42        120      1  winter  \n",
       "217440 2013-01-27 20:25:42 2013-01-27 15:25:42        159      1  winter  "
      ]
     },
     "execution_count": 227,
     "metadata": {},
     "output_type": "execute_result"
    }
   ],
   "source": [
    "nyc_test.head(n=20)"
   ]
  },
  {
   "cell_type": "code",
   "execution_count": 228,
   "metadata": {
    "collapsed": false
   },
   "outputs": [
    {
     "data": {
      "text/plain": [
       "array(['American Restaurant', 'Arcade', 'Bank', 'Bar', 'Beach', 'Building',\n",
       "       'Bus Station', 'Chinese Restaurant', 'Church', 'Coffee Shop',\n",
       "       'College Academic Building', 'Deli / Bodega', 'Ferry',\n",
       "       'Food & Drink Shop', 'Gym / Fitness Center', 'Home (private)',\n",
       "       'Hotel', 'Light Rail', 'Medical Center', 'Neighborhood', 'Office',\n",
       "       'Other Great Outdoors', 'Park', 'Road', 'Subway', 'Theater',\n",
       "       'Train Station'], dtype=object)"
      ]
     },
     "execution_count": 228,
     "metadata": {},
     "output_type": "execute_result"
    }
   ],
   "source": [
    "np.unique(predicted_venus)"
   ]
  },
  {
   "cell_type": "code",
   "execution_count": 229,
   "metadata": {
    "collapsed": false
   },
   "outputs": [
    {
     "data": {
      "text/plain": [
       "5831"
      ]
     },
     "execution_count": 229,
     "metadata": {},
     "output_type": "execute_result"
    }
   ],
   "source": [
    "np.sum(predicted_venus == nyc_test.venus_category_name)"
   ]
  },
  {
   "cell_type": "code",
   "execution_count": 230,
   "metadata": {
    "collapsed": false
   },
   "outputs": [
    {
     "data": {
      "text/plain": [
       "array(['Gym / Fitness Center', 'Gym / Fitness Center', 'Bar', ...,\n",
       "       'Office', 'Bar', 'Office'], dtype=object)"
      ]
     },
     "execution_count": 230,
     "metadata": {},
     "output_type": "execute_result"
    }
   ],
   "source": [
    "predicted_venus[predicted_venus == nyc_test.venus_category_name]"
   ]
  },
  {
   "cell_type": "code",
   "execution_count": 187,
   "metadata": {
    "collapsed": false
   },
   "outputs": [
    {
     "data": {
      "text/plain": [
       "(23355, 12)"
      ]
     },
     "execution_count": 187,
     "metadata": {},
     "output_type": "execute_result"
    }
   ],
   "source": [
    "nyc_test.shape"
   ]
  },
  {
   "cell_type": "markdown",
   "metadata": {},
   "source": [
    "# locational activity preference"
   ]
  },
  {
   "cell_type": "raw",
   "metadata": {},
   "source": [
    "Possible alternative method from paper: use DBSCAN to cluster locations and use cluster id as a new feature in tensor CP decomposition.  Use global cluster and user cluster overlap as weight to combine collaborative filtering model and locational activity model."
   ]
  },
  {
   "cell_type": "code",
   "execution_count": 45,
   "metadata": {
    "collapsed": false
   },
   "outputs": [],
   "source": [
    "#dump training data for ELKI\n",
    "nyc_train[['lat', 'lon']].to_csv('nyc_train.csv', header=None, index=None)"
   ]
  },
  {
   "cell_type": "raw",
   "metadata": {
    "collapsed": true
   },
   "source": [
    "# cannot use DBSCAN, will run out of memory due to implementation issue\n",
    "# have to use ELKI separately\n",
    "model = DBSCAN(eps=0.02, algorithm='ball_tree', min_samples=10, n_jobs=1)\n",
    "\n",
    "model.fit(nyc_train[['lat', 'lon']])\n",
    "\n",
    "model.labels_"
   ]
  },
  {
   "cell_type": "code",
   "execution_count": 41,
   "metadata": {
    "collapsed": false
   },
   "outputs": [
    {
     "data": {
      "text/plain": [
       "<matplotlib.axes._subplots.AxesSubplot at 0x7f2a13cf5630>"
      ]
     },
     "execution_count": 41,
     "metadata": {},
     "output_type": "execute_result"
    },
    {
     "data": {
      "image/png": "[encoded data removed]",
      "text/plain": [
       "<matplotlib.figure.Figure at 0x7f2a14e73630>"
      ]
     },
     "metadata": {},
     "output_type": "display_data"
    }
   ],
   "source": [
    "nyc_train[['lat', 'lon']].plot(x='lon', y='lat', kind='scatter')"
   ]
  },
  {
   "cell_type": "code",
   "execution_count": 43,
   "metadata": {
    "collapsed": false
   },
   "outputs": [
    {
     "data": {
      "text/html": [
       "<div>\n",
       "<table border=\"1\" class=\"dataframe\">\n",
       "  <thead>\n",
       "    <tr style=\"text-align: right;\">\n",
       "      <th></th>\n",
       "      <th>lat</th>\n",
       "      <th>lon</th>\n",
       "    </tr>\n",
       "  </thead>\n",
       "  <tbody>\n",
       "    <tr>\n",
       "      <th>count</th>\n",
       "      <td>204073.000000</td>\n",
       "      <td>204073.000000</td>\n",
       "    </tr>\n",
       "    <tr>\n",
       "      <th>mean</th>\n",
       "      <td>40.753909</td>\n",
       "      <td>-73.974707</td>\n",
       "    </tr>\n",
       "    <tr>\n",
       "      <th>std</th>\n",
       "      <td>0.072787</td>\n",
       "      <td>0.085801</td>\n",
       "    </tr>\n",
       "    <tr>\n",
       "      <th>min</th>\n",
       "      <td>40.550852</td>\n",
       "      <td>-74.274766</td>\n",
       "    </tr>\n",
       "    <tr>\n",
       "      <th>25%</th>\n",
       "      <td>40.718110</td>\n",
       "      <td>-74.000633</td>\n",
       "    </tr>\n",
       "    <tr>\n",
       "      <th>50%</th>\n",
       "      <td>40.747845</td>\n",
       "      <td>-73.983473</td>\n",
       "    </tr>\n",
       "    <tr>\n",
       "      <th>75%</th>\n",
       "      <td>40.778790</td>\n",
       "      <td>-73.946209</td>\n",
       "    </tr>\n",
       "    <tr>\n",
       "      <th>max</th>\n",
       "      <td>40.988332</td>\n",
       "      <td>-73.683825</td>\n",
       "    </tr>\n",
       "  </tbody>\n",
       "</table>\n",
       "</div>"
      ],
      "text/plain": [
       "                 lat            lon\n",
       "count  204073.000000  204073.000000\n",
       "mean       40.753909     -73.974707\n",
       "std         0.072787       0.085801\n",
       "min        40.550852     -74.274766\n",
       "25%        40.718110     -74.000633\n",
       "50%        40.747845     -73.983473\n",
       "75%        40.778790     -73.946209\n",
       "max        40.988332     -73.683825"
      ]
     },
     "execution_count": 43,
     "metadata": {},
     "output_type": "execute_result"
    }
   ],
   "source": [
    "nyc_train[['lat', 'lon']].describe()"
   ]
  },
  {
   "cell_type": "code",
   "execution_count": 44,
   "metadata": {
    "collapsed": false
   },
   "outputs": [
    {
     "data": {
      "text/plain": [
       "(204073, 12)"
      ]
     },
     "execution_count": 44,
     "metadata": {},
     "output_type": "execute_result"
    }
   ],
   "source": [
    "nyc_train.shape"
   ]
  },
  {
   "cell_type": "code",
   "execution_count": null,
   "metadata": {
    "collapsed": true
   },
   "outputs": [],
   "source": []
  }
 ],
 "metadata": {
  "kernelspec": {
   "display_name": "Python 3",
   "language": "python",
   "name": "python3"
  },
  "language_info": {
   "codemirror_mode": {
    "name": "ipython",
    "version": 3
   },
   "file_extension": ".py",
   "mimetype": "text/x-python",
   "name": "python",
   "nbconvert_exporter": "python",
   "pygments_lexer": "ipython3",
   "version": "3.5.3"
  }
 },
 "nbformat": 4,
 "nbformat_minor": 2
}
